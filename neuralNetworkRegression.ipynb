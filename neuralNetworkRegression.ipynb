{
  "nbformat": 4,
  "nbformat_minor": 0,
  "metadata": {
    "colab": {
      "provenance": [],
      "gpuType": "T4",
      "authorship_tag": "ABX9TyMurTMcHaCnA0fdF6b18Nhj",
      "include_colab_link": true
    },
    "kernelspec": {
      "name": "python3",
      "display_name": "Python 3"
    },
    "language_info": {
      "name": "python"
    },
    "accelerator": "GPU"
  },
  "cells": [
    {
      "cell_type": "markdown",
      "metadata": {
        "id": "view-in-github",
        "colab_type": "text"
      },
      "source": [
        "<a href=\"https://colab.research.google.com/github/emignox/NeuralNetworkRegression.tf/blob/main/neuralNetworkRegression.ipynb\" target=\"_parent\"><img src=\"https://colab.research.google.com/assets/colab-badge.svg\" alt=\"Open In Colab\"/></a>"
      ]
    },
    {
      "cell_type": "markdown",
      "source": [
        "# Introduction to regression with neural networks in tensorFlow\n",
        "predicting a number using a neural network"
      ],
      "metadata": {
        "id": "dC67Q-kQR-J3"
      }
    },
    {
      "cell_type": "code",
      "source": [
        "# import tensorflow\n",
        "import tensorflow as tf\n",
        "print(tf.__version__)"
      ],
      "metadata": {
        "colab": {
          "base_uri": "https://localhost:8080/"
        },
        "id": "Vl4s0PIUf5XD",
        "outputId": "a0df3191-8a43-4931-91cd-b113d053d083"
      },
      "execution_count": null,
      "outputs": [
        {
          "output_type": "stream",
          "name": "stdout",
          "text": [
            "2.15.0\n"
          ]
        }
      ]
    },
    {
      "cell_type": "code",
      "source": [
        "## creating some data to vue and fit\n",
        "import numpy as np\n",
        "import matplotlib.pyplot as plt\n",
        "#create the features\n",
        "X = np.array([-7.0, -4.0, -1.0, 2.0, 5.0, 8.0, 11.0, 14.0])\n",
        "#create labels\n",
        "Y = np.array([3.0, 6.0, 9.0, 12.0, 15.0, 18.0, 21.0, 24.0])\n",
        "#visualize the data\n",
        "plt.scatter(X,Y)\n",
        "## y == X + 10 la relazione tra gli array al  di sopra"
      ],
      "metadata": {
        "colab": {
          "base_uri": "https://localhost:8080/",
          "height": 453
        },
        "id": "1J244Y4sgFe5",
        "outputId": "8983162f-97bb-448c-8dfb-5a264955ee0c"
      },
      "execution_count": null,
      "outputs": [
        {
          "output_type": "execute_result",
          "data": {
            "text/plain": [
              "<matplotlib.collections.PathCollection at 0x7ed4809db790>"
            ]
          },
          "metadata": {},
          "execution_count": 2
        },
        {
          "output_type": "display_data",
          "data": {
            "text/plain": [
              "<Figure size 640x480 with 1 Axes>"
            ],
            "image/png": "[encoded data removed]"
          },
          "metadata": {}
        }
      ]
    },
    {
      "cell_type": "code",
      "source": [
        "##create a demo  tensor for our housing price prediction problem\n",
        "house_info = tf.constant([\"bedroom\", \"bathroom\", \"garage\"])\n",
        "house_price = tf.constant([939700])\n",
        "house_price, house_info\n"
      ],
      "metadata": {
        "colab": {
          "base_uri": "https://localhost:8080/"
        },
        "id": "Lhfkqn-ygsUJ",
        "outputId": "6fc904cf-5005-4eac-e994-5fa7c2851943"
      },
      "execution_count": null,
      "outputs": [
        {
          "output_type": "execute_result",
          "data": {
            "text/plain": [
              "(<tf.Tensor: shape=(1,), dtype=int32, numpy=array([939700], dtype=int32)>,\n",
              " <tf.Tensor: shape=(3,), dtype=string, numpy=array([b'bedroom', b'bathroom', b'garage'], dtype=object)>)"
            ]
          },
          "metadata": {},
          "execution_count": 3
        }
      ]
    },
    {
      "cell_type": "code",
      "source": [
        "input_shape = X[0].shape\n",
        "output_shape = Y[0].shape\n",
        "input_shape, output_shape\n",
        "#strange no shape 0 dimension"
      ],
      "metadata": {
        "colab": {
          "base_uri": "https://localhost:8080/"
        },
        "id": "u4nFzEFMh3Op",
        "outputId": "c873832b-de0b-462a-e654-87534dddc814"
      },
      "execution_count": null,
      "outputs": [
        {
          "output_type": "execute_result",
          "data": {
            "text/plain": [
              "((), ())"
            ]
          },
          "metadata": {},
          "execution_count": 4
        }
      ]
    },
    {
      "cell_type": "code",
      "source": [
        "# we turn them from numpyArrays to tensors\n",
        "X = tf.constant(X)\n",
        "Y = tf.constant(Y)\n",
        "print(X,Y)"
      ],
      "metadata": {
        "colab": {
          "base_uri": "https://localhost:8080/"
        },
        "id": "i1MZlauriMF4",
        "outputId": "74a8ce1b-9f52-4f5a-d515-8b2225518126"
      },
      "execution_count": null,
      "outputs": [
        {
          "output_type": "stream",
          "name": "stdout",
          "text": [
            "tf.Tensor([-7. -4. -1.  2.  5.  8. 11. 14.], shape=(8,), dtype=float64) tf.Tensor([ 3.  6.  9. 12. 15. 18. 21. 24.], shape=(8,), dtype=float64)\n"
          ]
        }
      ]
    },
    {
      "cell_type": "code",
      "source": [
        "tf.random.set_seed(42)\n",
        "model = tf.keras.Sequential([\n",
        "    tf.keras.layers.Dense(1),\n",
        "    ])\n",
        "\n",
        "model.compile(loss=tf.keras.losses.mae,\n",
        "              optimizer=tf.keras.optimizers.SGD(),\n",
        "              metrics=[\"mae\"])\n",
        "\n",
        "model.fit(tf.expand_dims(X, axis=-1), Y, epochs=5)\n",
        "\n"
      ],
      "metadata": {
        "colab": {
          "base_uri": "https://localhost:8080/"
        },
        "id": "nVHrQbQkjeEB",
        "outputId": "d6749176-9a4d-4b32-b271-1244b5dcf51f"
      },
      "execution_count": null,
      "outputs": [
        {
          "output_type": "stream",
          "name": "stdout",
          "text": [
            "Epoch 1/5\n",
            "1/1 [==============================] - 3s 3s/step - loss: 21.7011 - mae: 21.7011\n",
            "Epoch 2/5\n",
            "1/1 [==============================] - 0s 51ms/step - loss: 21.3080 - mae: 21.3080\n",
            "Epoch 3/5\n",
            "1/1 [==============================] - 0s 27ms/step - loss: 20.9149 - mae: 20.9149\n",
            "Epoch 4/5\n",
            "1/1 [==============================] - 0s 37ms/step - loss: 20.5333 - mae: 20.5333\n",
            "Epoch 5/5\n",
            "1/1 [==============================] - 0s 49ms/step - loss: 20.2521 - mae: 20.2521\n"
          ]
        },
        {
          "output_type": "execute_result",
          "data": {
            "text/plain": [
              "<keras.src.callbacks.History at 0x7ed46f747ca0>"
            ]
          },
          "metadata": {},
          "execution_count": 6
        }
      ]
    },
    {
      "cell_type": "code",
      "source": [
        "#checkout X and Y\n",
        "#try to make a prediction\n",
        "model.predict([17.0])"
      ],
      "metadata": {
        "colab": {
          "base_uri": "https://localhost:8080/"
        },
        "id": "GiBu_5iOm2Ry",
        "outputId": "2ae405f3-ce3a-4a1c-8151-4a1292f0fb86"
      },
      "execution_count": null,
      "outputs": [
        {
          "output_type": "stream",
          "name": "stdout",
          "text": [
            "1/1 [==============================] - 0s 262ms/step\n"
          ]
        },
        {
          "output_type": "execute_result",
          "data": {
            "text/plain": [
              "array([[-23.42451]], dtype=float32)"
            ]
          },
          "metadata": {},
          "execution_count": 7
        }
      ]
    },
    {
      "cell_type": "markdown",
      "source": [
        "#trying to improve our model\n",
        " * add more hidden  layer\n",
        " * change activation  function of every layer\n",
        " * change optimizer\n",
        " * change learning rate\n",
        " * fit for more epochs\n"
      ],
      "metadata": {
        "id": "gACQ1wi0n0s1"
      }
    },
    {
      "cell_type": "code",
      "source": [
        "# tf.random.set_seed(42)\n",
        "# model = tf.keras.Sequential([\n",
        "#     tf.keras.layers.Dense(100, activation=\"relu\"),\n",
        "#     tf.keras.layers.Dense(100, activation\"relu\"),\n",
        "#     tf.keras.layers.Dense(100, activation\"relu\"),\n",
        "#     tf.keras.layers.Dense(1),\n",
        "#     ])\n",
        "\n",
        "# model.compile(loss=tf.keras.losses.mae,\n",
        "#               optimizer=tf.keras.optimizers.Adam(lr=0.0001),\n",
        "#               metrics=[\"mae\"])\n",
        "\n",
        "# model.fit(tf.expand_dims(X, axis=-1), Y, epochs=5)\n"
      ],
      "metadata": {
        "id": "1omJ9NAwqFtW"
      },
      "execution_count": null,
      "outputs": []
    },
    {
      "cell_type": "code",
      "source": [
        "tf.random.set_seed(42)\n",
        "model = tf.keras.Sequential([\n",
        "        tf.keras.layers.Dense(100, activation=\"relu\"),\n",
        "                tf.keras.layers.Dense(1),\n",
        "\n",
        "    ])\n",
        "\n",
        "model.compile(loss=tf.keras.losses.mae,\n",
        "              optimizer=tf.keras.optimizers.Adam(learning_rate=0.01),\n",
        "              metrics=[\"mae\"])\n",
        "\n",
        "model.fit(tf.expand_dims(X, axis=-1), Y, epochs=100)\n",
        "\n"
      ],
      "metadata": {
        "colab": {
          "base_uri": "https://localhost:8080/"
        },
        "id": "KWPOzCdBq1Wu",
        "outputId": "14f64db8-8269-4b3a-9aee-3db81195e342"
      },
      "execution_count": null,
      "outputs": [
        {
          "output_type": "stream",
          "name": "stdout",
          "text": [
            "Epoch 1/100\n",
            "1/1 [==============================] - 2s 2s/step - loss: 12.9249 - mae: 12.9249\n",
            "Epoch 2/100\n",
            "1/1 [==============================] - 0s 24ms/step - loss: 12.2316 - mae: 12.2316\n",
            "Epoch 3/100\n",
            "1/1 [==============================] - 0s 34ms/step - loss: 11.5258 - mae: 11.5258\n",
            "Epoch 4/100\n",
            "1/1 [==============================] - 0s 26ms/step - loss: 10.8447 - mae: 10.8447\n",
            "Epoch 5/100\n",
            "1/1 [==============================] - 0s 54ms/step - loss: 10.3322 - mae: 10.3322\n",
            "Epoch 6/100\n",
            "1/1 [==============================] - 0s 20ms/step - loss: 9.7988 - mae: 9.7988\n",
            "Epoch 7/100\n",
            "1/1 [==============================] - 0s 11ms/step - loss: 9.2447 - mae: 9.2447\n",
            "Epoch 8/100\n",
            "1/1 [==============================] - 0s 15ms/step - loss: 8.6681 - mae: 8.6681\n",
            "Epoch 9/100\n",
            "1/1 [==============================] - 0s 17ms/step - loss: 8.0656 - mae: 8.0656\n",
            "Epoch 10/100\n",
            "1/1 [==============================] - 0s 36ms/step - loss: 7.4367 - mae: 7.4367\n",
            "Epoch 11/100\n",
            "1/1 [==============================] - 0s 19ms/step - loss: 6.7778 - mae: 6.7778\n",
            "Epoch 12/100\n",
            "1/1 [==============================] - 0s 16ms/step - loss: 6.0804 - mae: 6.0804\n",
            "Epoch 13/100\n",
            "1/1 [==============================] - 0s 18ms/step - loss: 5.3421 - mae: 5.3421\n",
            "Epoch 14/100\n",
            "1/1 [==============================] - 0s 55ms/step - loss: 4.5601 - mae: 4.5601\n",
            "Epoch 15/100\n",
            "1/1 [==============================] - 0s 22ms/step - loss: 3.8800 - mae: 3.8800\n",
            "Epoch 16/100\n",
            "1/1 [==============================] - 0s 29ms/step - loss: 3.6749 - mae: 3.6749\n",
            "Epoch 17/100\n",
            "1/1 [==============================] - 0s 41ms/step - loss: 3.8101 - mae: 3.8101\n",
            "Epoch 18/100\n",
            "1/1 [==============================] - 0s 19ms/step - loss: 3.9273 - mae: 3.9273\n",
            "Epoch 19/100\n",
            "1/1 [==============================] - 0s 54ms/step - loss: 4.1833 - mae: 4.1833\n",
            "Epoch 20/100\n",
            "1/1 [==============================] - 0s 28ms/step - loss: 4.3356 - mae: 4.3356\n",
            "Epoch 21/100\n",
            "1/1 [==============================] - 0s 36ms/step - loss: 4.3984 - mae: 4.3984\n",
            "Epoch 22/100\n",
            "1/1 [==============================] - 0s 34ms/step - loss: 4.3810 - mae: 4.3810\n",
            "Epoch 23/100\n",
            "1/1 [==============================] - 0s 47ms/step - loss: 4.2923 - mae: 4.2923\n",
            "Epoch 24/100\n",
            "1/1 [==============================] - 0s 93ms/step - loss: 4.1432 - mae: 4.1432\n",
            "Epoch 25/100\n",
            "1/1 [==============================] - 0s 23ms/step - loss: 3.9519 - mae: 3.9519\n",
            "Epoch 26/100\n",
            "1/1 [==============================] - 0s 29ms/step - loss: 3.7216 - mae: 3.7216\n",
            "Epoch 27/100\n",
            "1/1 [==============================] - 0s 25ms/step - loss: 3.5155 - mae: 3.5155\n",
            "Epoch 28/100\n",
            "1/1 [==============================] - 0s 29ms/step - loss: 3.3941 - mae: 3.3941\n",
            "Epoch 29/100\n",
            "1/1 [==============================] - 0s 31ms/step - loss: 3.2690 - mae: 3.2690\n",
            "Epoch 30/100\n",
            "1/1 [==============================] - 0s 22ms/step - loss: 3.1748 - mae: 3.1748\n",
            "Epoch 31/100\n",
            "1/1 [==============================] - 0s 39ms/step - loss: 3.0932 - mae: 3.0932\n",
            "Epoch 32/100\n",
            "1/1 [==============================] - 0s 23ms/step - loss: 3.0984 - mae: 3.0984\n",
            "Epoch 33/100\n",
            "1/1 [==============================] - 0s 22ms/step - loss: 3.0661 - mae: 3.0661\n",
            "Epoch 34/100\n",
            "1/1 [==============================] - 0s 24ms/step - loss: 2.9862 - mae: 2.9862\n",
            "Epoch 35/100\n",
            "1/1 [==============================] - 0s 58ms/step - loss: 2.8719 - mae: 2.8719\n",
            "Epoch 36/100\n",
            "1/1 [==============================] - 0s 45ms/step - loss: 2.7242 - mae: 2.7242\n",
            "Epoch 37/100\n",
            "1/1 [==============================] - 0s 44ms/step - loss: 2.6391 - mae: 2.6391\n",
            "Epoch 38/100\n",
            "1/1 [==============================] - 0s 33ms/step - loss: 2.6148 - mae: 2.6148\n",
            "Epoch 39/100\n",
            "1/1 [==============================] - 0s 37ms/step - loss: 2.5493 - mae: 2.5493\n",
            "Epoch 40/100\n",
            "1/1 [==============================] - 0s 30ms/step - loss: 2.4764 - mae: 2.4764\n",
            "Epoch 41/100\n",
            "1/1 [==============================] - 0s 55ms/step - loss: 2.3861 - mae: 2.3861\n",
            "Epoch 42/100\n",
            "1/1 [==============================] - 0s 33ms/step - loss: 2.2766 - mae: 2.2766\n",
            "Epoch 43/100\n",
            "1/1 [==============================] - 0s 25ms/step - loss: 2.1506 - mae: 2.1506\n",
            "Epoch 44/100\n",
            "1/1 [==============================] - 0s 23ms/step - loss: 2.0145 - mae: 2.0145\n",
            "Epoch 45/100\n",
            "1/1 [==============================] - 0s 46ms/step - loss: 1.8611 - mae: 1.8611\n",
            "Epoch 46/100\n",
            "1/1 [==============================] - 0s 28ms/step - loss: 1.7417 - mae: 1.7417\n",
            "Epoch 47/100\n",
            "1/1 [==============================] - 0s 29ms/step - loss: 1.6135 - mae: 1.6135\n",
            "Epoch 48/100\n",
            "1/1 [==============================] - 0s 31ms/step - loss: 1.4140 - mae: 1.4140\n",
            "Epoch 49/100\n",
            "1/1 [==============================] - 0s 33ms/step - loss: 1.3071 - mae: 1.3071\n",
            "Epoch 50/100\n",
            "1/1 [==============================] - 0s 35ms/step - loss: 1.2272 - mae: 1.2272\n",
            "Epoch 51/100\n",
            "1/1 [==============================] - 0s 40ms/step - loss: 1.0841 - mae: 1.0841\n",
            "Epoch 52/100\n",
            "1/1 [==============================] - 0s 47ms/step - loss: 0.8214 - mae: 0.8214\n",
            "Epoch 53/100\n",
            "1/1 [==============================] - 0s 38ms/step - loss: 0.7113 - mae: 0.7113\n",
            "Epoch 54/100\n",
            "1/1 [==============================] - 0s 33ms/step - loss: 0.5917 - mae: 0.5917\n",
            "Epoch 55/100\n",
            "1/1 [==============================] - 0s 24ms/step - loss: 0.4218 - mae: 0.4218\n",
            "Epoch 56/100\n",
            "1/1 [==============================] - 0s 14ms/step - loss: 0.3546 - mae: 0.3546\n",
            "Epoch 57/100\n",
            "1/1 [==============================] - 0s 25ms/step - loss: 0.4229 - mae: 0.4229\n",
            "Epoch 58/100\n",
            "1/1 [==============================] - 0s 20ms/step - loss: 0.2850 - mae: 0.2850\n",
            "Epoch 59/100\n",
            "1/1 [==============================] - 0s 16ms/step - loss: 0.4886 - mae: 0.4886\n",
            "Epoch 60/100\n",
            "1/1 [==============================] - 0s 21ms/step - loss: 0.4537 - mae: 0.4537\n",
            "Epoch 61/100\n",
            "1/1 [==============================] - 0s 34ms/step - loss: 0.6375 - mae: 0.6375\n",
            "Epoch 62/100\n",
            "1/1 [==============================] - 0s 21ms/step - loss: 0.7388 - mae: 0.7388\n",
            "Epoch 63/100\n",
            "1/1 [==============================] - 0s 28ms/step - loss: 0.6321 - mae: 0.6321\n",
            "Epoch 64/100\n",
            "1/1 [==============================] - 0s 25ms/step - loss: 0.3644 - mae: 0.3644\n",
            "Epoch 65/100\n",
            "1/1 [==============================] - 0s 17ms/step - loss: 0.4834 - mae: 0.4834\n",
            "Epoch 66/100\n",
            "1/1 [==============================] - 0s 18ms/step - loss: 0.5884 - mae: 0.5884\n",
            "Epoch 67/100\n",
            "1/1 [==============================] - 0s 22ms/step - loss: 0.3874 - mae: 0.3874\n",
            "Epoch 68/100\n",
            "1/1 [==============================] - 0s 19ms/step - loss: 0.3829 - mae: 0.3829\n",
            "Epoch 69/100\n",
            "1/1 [==============================] - 0s 25ms/step - loss: 0.3474 - mae: 0.3474\n",
            "Epoch 70/100\n",
            "1/1 [==============================] - 0s 20ms/step - loss: 0.2285 - mae: 0.2285\n",
            "Epoch 71/100\n",
            "1/1 [==============================] - 0s 52ms/step - loss: 0.5497 - mae: 0.5497\n",
            "Epoch 72/100\n",
            "1/1 [==============================] - 0s 44ms/step - loss: 0.5349 - mae: 0.5349\n",
            "Epoch 73/100\n",
            "1/1 [==============================] - 0s 46ms/step - loss: 0.3693 - mae: 0.3693\n",
            "Epoch 74/100\n",
            "1/1 [==============================] - 0s 27ms/step - loss: 0.3290 - mae: 0.3290\n",
            "Epoch 75/100\n",
            "1/1 [==============================] - 0s 44ms/step - loss: 0.1734 - mae: 0.1734\n",
            "Epoch 76/100\n",
            "1/1 [==============================] - 0s 15ms/step - loss: 0.1831 - mae: 0.1831\n",
            "Epoch 77/100\n",
            "1/1 [==============================] - 0s 27ms/step - loss: 0.2991 - mae: 0.2991\n",
            "Epoch 78/100\n",
            "1/1 [==============================] - 0s 20ms/step - loss: 0.2845 - mae: 0.2845\n",
            "Epoch 79/100\n",
            "1/1 [==============================] - 0s 43ms/step - loss: 0.3084 - mae: 0.3084\n",
            "Epoch 80/100\n",
            "1/1 [==============================] - 0s 20ms/step - loss: 0.2983 - mae: 0.2983\n",
            "Epoch 81/100\n",
            "1/1 [==============================] - 0s 35ms/step - loss: 0.1878 - mae: 0.1878\n",
            "Epoch 82/100\n",
            "1/1 [==============================] - 0s 32ms/step - loss: 0.2735 - mae: 0.2735\n",
            "Epoch 83/100\n",
            "1/1 [==============================] - 0s 70ms/step - loss: 0.1984 - mae: 0.1984\n",
            "Epoch 84/100\n",
            "1/1 [==============================] - 0s 60ms/step - loss: 0.1960 - mae: 0.1960\n",
            "Epoch 85/100\n",
            "1/1 [==============================] - 0s 22ms/step - loss: 0.1595 - mae: 0.1595\n",
            "Epoch 86/100\n",
            "1/1 [==============================] - 0s 12ms/step - loss: 0.1365 - mae: 0.1365\n",
            "Epoch 87/100\n",
            "1/1 [==============================] - 0s 16ms/step - loss: 0.2520 - mae: 0.2520\n",
            "Epoch 88/100\n",
            "1/1 [==============================] - 0s 25ms/step - loss: 0.2231 - mae: 0.2231\n",
            "Epoch 89/100\n",
            "1/1 [==============================] - 0s 30ms/step - loss: 0.2665 - mae: 0.2665\n",
            "Epoch 90/100\n",
            "1/1 [==============================] - 0s 32ms/step - loss: 0.3228 - mae: 0.3228\n",
            "Epoch 91/100\n",
            "1/1 [==============================] - 0s 26ms/step - loss: 0.1996 - mae: 0.1996\n",
            "Epoch 92/100\n",
            "1/1 [==============================] - 0s 19ms/step - loss: 0.3732 - mae: 0.3732\n",
            "Epoch 93/100\n",
            "1/1 [==============================] - 0s 54ms/step - loss: 0.4198 - mae: 0.4198\n",
            "Epoch 94/100\n",
            "1/1 [==============================] - 0s 51ms/step - loss: 0.2699 - mae: 0.2699\n",
            "Epoch 95/100\n",
            "1/1 [==============================] - 0s 37ms/step - loss: 0.2669 - mae: 0.2669\n",
            "Epoch 96/100\n",
            "1/1 [==============================] - 0s 68ms/step - loss: 0.4430 - mae: 0.4430\n",
            "Epoch 97/100\n",
            "1/1 [==============================] - 0s 30ms/step - loss: 0.3913 - mae: 0.3913\n",
            "Epoch 98/100\n",
            "1/1 [==============================] - 0s 37ms/step - loss: 0.1574 - mae: 0.1574\n",
            "Epoch 99/100\n",
            "1/1 [==============================] - 0s 33ms/step - loss: 0.3939 - mae: 0.3939\n",
            "Epoch 100/100\n",
            "1/1 [==============================] - 0s 35ms/step - loss: 0.4863 - mae: 0.4863\n"
          ]
        },
        {
          "output_type": "execute_result",
          "data": {
            "text/plain": [
              "<keras.src.callbacks.History at 0x7ed46ec12530>"
            ]
          },
          "metadata": {},
          "execution_count": 9
        }
      ]
    },
    {
      "cell_type": "code",
      "source": [
        "model.predict([17.0]) # the result must be the 17 +10 if the result is 27.1077 or near this number the model works perfectly\n"
      ],
      "metadata": {
        "colab": {
          "base_uri": "https://localhost:8080/"
        },
        "id": "SVxlHJJd5AWT",
        "outputId": "a871eea0-cf34-4252-f4ae-321ef0202590"
      },
      "execution_count": null,
      "outputs": [
        {
          "output_type": "stream",
          "name": "stdout",
          "text": [
            "1/1 [==============================] - 0s 141ms/step\n"
          ]
        },
        {
          "output_type": "execute_result",
          "data": {
            "text/plain": [
              "array([[28.05797]], dtype=float32)"
            ]
          },
          "metadata": {},
          "execution_count": 10
        }
      ]
    },
    {
      "cell_type": "code",
      "source": [
        "x= tf.range(-100,100,4)\n",
        "x"
      ],
      "metadata": {
        "colab": {
          "base_uri": "https://localhost:8080/"
        },
        "id": "BIQ0gq5sJIvf",
        "outputId": "1ce46efd-3e28-4c46-8eb7-22369a5797ad"
      },
      "execution_count": null,
      "outputs": [
        {
          "output_type": "execute_result",
          "data": {
            "text/plain": [
              "<tf.Tensor: shape=(50,), dtype=int32, numpy=\n",
              "array([-100,  -96,  -92,  -88,  -84,  -80,  -76,  -72,  -68,  -64,  -60,\n",
              "        -56,  -52,  -48,  -44,  -40,  -36,  -32,  -28,  -24,  -20,  -16,\n",
              "        -12,   -8,   -4,    0,    4,    8,   12,   16,   20,   24,   28,\n",
              "         32,   36,   40,   44,   48,   52,   56,   60,   64,   68,   72,\n",
              "         76,   80,   84,   88,   92,   96], dtype=int32)>"
            ]
          },
          "metadata": {},
          "execution_count": 11
        }
      ]
    },
    {
      "cell_type": "code",
      "source": [
        "y = x+10\n",
        "y"
      ],
      "metadata": {
        "colab": {
          "base_uri": "https://localhost:8080/"
        },
        "id": "CI6RfgpGJVsR",
        "outputId": "7f0942e1-0dda-4502-e621-36a610ee6f92"
      },
      "execution_count": null,
      "outputs": [
        {
          "output_type": "execute_result",
          "data": {
            "text/plain": [
              "<tf.Tensor: shape=(50,), dtype=int32, numpy=\n",
              "array([-90, -86, -82, -78, -74, -70, -66, -62, -58, -54, -50, -46, -42,\n",
              "       -38, -34, -30, -26, -22, -18, -14, -10,  -6,  -2,   2,   6,  10,\n",
              "        14,  18,  22,  26,  30,  34,  38,  42,  46,  50,  54,  58,  62,\n",
              "        66,  70,  74,  78,  82,  86,  90,  94,  98, 102, 106], dtype=int32)>"
            ]
          },
          "metadata": {},
          "execution_count": 12
        }
      ]
    },
    {
      "cell_type": "code",
      "source": [
        "plt.scatter(x,y)"
      ],
      "metadata": {
        "colab": {
          "base_uri": "https://localhost:8080/",
          "height": 448
        },
        "id": "VEN4sKM3JZ6M",
        "outputId": "df103bad-b5ec-4e4e-d2f3-9238c625d719"
      },
      "execution_count": null,
      "outputs": [
        {
          "output_type": "execute_result",
          "data": {
            "text/plain": [
              "<matplotlib.collections.PathCollection at 0x7ed46ffa9480>"
            ]
          },
          "metadata": {},
          "execution_count": 13
        },
        {
          "output_type": "display_data",
          "data": {
            "text/plain": [
              "<Figure size 640x480 with 1 Axes>"
            ],
            "image/png": "[encoded data removed]"
          },
          "metadata": {}
        }
      ]
    },
    {
      "cell_type": "code",
      "source": [
        "# spit tghe data int train and test sets\n",
        "\n",
        "x_train = x[:40]# first 40 are training samples (80% of the data)\n",
        "y_train = y[:40]\n",
        "x_test = x[40:]# last 10 are testing samples (20% of the data )\n",
        "y_test = y[40:]\n",
        "len(x_train), len(x_test), len(y_train), len(y_test)"
      ],
      "metadata": {
        "id": "FCq3w6O5J2A3",
        "colab": {
          "base_uri": "https://localhost:8080/"
        },
        "outputId": "bc088726-4202-4c6a-bb45-ede42de1bab9"
      },
      "execution_count": null,
      "outputs": [
        {
          "output_type": "execute_result",
          "data": {
            "text/plain": [
              "(40, 10, 40, 10)"
            ]
          },
          "metadata": {},
          "execution_count": 14
        }
      ]
    },
    {
      "cell_type": "code",
      "source": [
        "### visualize the data\n",
        "plt.figure(figsize=(10,7))\n",
        "plt.scatter(x_train, y_train, c=\"b\", label=\"training data\") # c=\"b\" significa colore blue\n",
        "plt.scatter(x_test, y_test, c=\"g\", label=\"testing data\")# c=\"g\" significa green\n",
        "plt.legend"
      ],
      "metadata": {
        "colab": {
          "base_uri": "https://localhost:8080/",
          "height": 769
        },
        "id": "hQcMGJYzssJ9",
        "outputId": "508a75f7-aaf4-434e-e195-181e01c3c525"
      },
      "execution_count": null,
      "outputs": [
        {
          "output_type": "execute_result",
          "data": {
            "text/plain": [
              "<function matplotlib.pyplot.legend(*args, **kwargs)>"
            ],
            "text/html": [
              "<div style=\"max-width:800px; border: 1px solid var(--colab-border-color);\"><style>\n",
              "      pre.function-repr-contents {\n",
              "        overflow-x: auto;\n",
              "        padding: 8px 12px;\n",
              "        max-height: 500px;\n",
              "      }\n",
              "\n",
              "      pre.function-repr-contents.function-repr-contents-collapsed {\n",
              "        cursor: pointer;\n",
              "        max-height: 100px;\n",
              "      }\n",
              "    </style>\n",
              "    <pre style=\"white-space: initial; background:\n",
              "         var(--colab-secondary-surface-color); padding: 8px 12px;\n",
              "         border-bottom: 1px solid var(--colab-border-color);\"><b>matplotlib.pyplot.legend</b><br/>def legend(*args, **kwargs)</pre><pre class=\"function-repr-contents function-repr-contents-collapsed\" style=\"\"><a class=\"filepath\" style=\"display:none\" href=\"#\">/usr/local/lib/python3.10/dist-packages/matplotlib/pyplot.py</a>Place a legend on the Axes.\n",
              "\n",
              "Call signatures::\n",
              "\n",
              "    legend()\n",
              "    legend(handles, labels)\n",
              "    legend(handles=handles)\n",
              "    legend(labels)\n",
              "\n",
              "The call signatures correspond to the following different ways to use\n",
              "this method:\n",
              "\n",
              "**1. Automatic detection of elements to be shown in the legend**\n",
              "\n",
              "The elements to be added to the legend are automatically determined,\n",
              "when you do not pass in any extra arguments.\n",
              "\n",
              "In this case, the labels are taken from the artist. You can specify\n",
              "them either at artist creation or by calling the\n",
              ":meth:`~.Artist.set_label` method on the artist::\n",
              "\n",
              "    ax.plot([1, 2, 3], label=&#x27;Inline label&#x27;)\n",
              "    ax.legend()\n",
              "\n",
              "or::\n",
              "\n",
              "    line, = ax.plot([1, 2, 3])\n",
              "    line.set_label(&#x27;Label via method&#x27;)\n",
              "    ax.legend()\n",
              "\n",
              ".. note::\n",
              "    Specific artists can be excluded from the automatic legend element\n",
              "    selection by using a label starting with an underscore, &quot;_&quot;.\n",
              "    A string starting with an underscore is the default label for all\n",
              "    artists, so calling `.Axes.legend` without any arguments and\n",
              "    without setting the labels manually will result in no legend being\n",
              "    drawn.\n",
              "\n",
              "\n",
              "**2. Explicitly listing the artists and labels in the legend**\n",
              "\n",
              "For full control of which artists have a legend entry, it is possible\n",
              "to pass an iterable of legend artists followed by an iterable of\n",
              "legend labels respectively::\n",
              "\n",
              "    ax.legend([line1, line2, line3], [&#x27;label1&#x27;, &#x27;label2&#x27;, &#x27;label3&#x27;])\n",
              "\n",
              "\n",
              "**3. Explicitly listing the artists in the legend**\n",
              "\n",
              "This is similar to 2, but the labels are taken from the artists&#x27;\n",
              "label properties. Example::\n",
              "\n",
              "    line1, = ax.plot([1, 2, 3], label=&#x27;label1&#x27;)\n",
              "    line2, = ax.plot([1, 2, 3], label=&#x27;label2&#x27;)\n",
              "    ax.legend(handles=[line1, line2])\n",
              "\n",
              "\n",
              "**4. Labeling existing plot elements**\n",
              "\n",
              ".. admonition:: Discouraged\n",
              "\n",
              "    This call signature is discouraged, because the relation between\n",
              "    plot elements and labels is only implicit by their order and can\n",
              "    easily be mixed up.\n",
              "\n",
              "To make a legend for all artists on an Axes, call this function with\n",
              "an iterable of strings, one for each legend item. For example::\n",
              "\n",
              "    ax.plot([1, 2, 3])\n",
              "    ax.plot([5, 6, 7])\n",
              "    ax.legend([&#x27;First line&#x27;, &#x27;Second line&#x27;])\n",
              "\n",
              "\n",
              "Parameters\n",
              "----------\n",
              "handles : sequence of `.Artist`, optional\n",
              "    A list of Artists (lines, patches) to be added to the legend.\n",
              "    Use this together with *labels*, if you need full control on what\n",
              "    is shown in the legend and the automatic mechanism described above\n",
              "    is not sufficient.\n",
              "\n",
              "    The length of handles and labels should be the same in this\n",
              "    case. If they are not, they are truncated to the smaller length.\n",
              "\n",
              "labels : list of str, optional\n",
              "    A list of labels to show next to the artists.\n",
              "    Use this together with *handles*, if you need full control on what\n",
              "    is shown in the legend and the automatic mechanism described above\n",
              "    is not sufficient.\n",
              "\n",
              "Returns\n",
              "-------\n",
              "`~matplotlib.legend.Legend`\n",
              "\n",
              "Other Parameters\n",
              "----------------\n",
              "\n",
              "loc : str or pair of floats, default: :rc:`legend.loc`\n",
              "    The location of the legend.\n",
              "\n",
              "    The strings ``&#x27;upper left&#x27;``, ``&#x27;upper right&#x27;``, ``&#x27;lower left&#x27;``,\n",
              "    ``&#x27;lower right&#x27;`` place the legend at the corresponding corner of the\n",
              "    axes.\n",
              "\n",
              "    The strings ``&#x27;upper center&#x27;``, ``&#x27;lower center&#x27;``, ``&#x27;center left&#x27;``,\n",
              "    ``&#x27;center right&#x27;`` place the legend at the center of the corresponding edge\n",
              "    of the axes.\n",
              "\n",
              "    The string ``&#x27;center&#x27;`` places the legend at the center of the axes.\n",
              "\n",
              "    The string ``&#x27;best&#x27;`` places the legend at the location, among the nine\n",
              "    locations defined so far, with the minimum overlap with other drawn\n",
              "    artists.  This option can be quite slow for plots with large amounts of\n",
              "    data; your plotting speed may benefit from providing a specific location.\n",
              "\n",
              "    The location can also be a 2-tuple giving the coordinates of the lower-left\n",
              "    corner of the legend in axes coordinates (in which case *bbox_to_anchor*\n",
              "    will be ignored).\n",
              "\n",
              "    For back-compatibility, ``&#x27;center right&#x27;`` (but no other location) can also\n",
              "    be spelled ``&#x27;right&#x27;``, and each &quot;string&quot; location can also be given as a\n",
              "    numeric value:\n",
              "\n",
              "        ==================   =============\n",
              "        Location String      Location Code\n",
              "        ==================   =============\n",
              "        &#x27;best&#x27; (Axes only)   0\n",
              "        &#x27;upper right&#x27;        1\n",
              "        &#x27;upper left&#x27;         2\n",
              "        &#x27;lower left&#x27;         3\n",
              "        &#x27;lower right&#x27;        4\n",
              "        &#x27;right&#x27;              5\n",
              "        &#x27;center left&#x27;        6\n",
              "        &#x27;center right&#x27;       7\n",
              "        &#x27;lower center&#x27;       8\n",
              "        &#x27;upper center&#x27;       9\n",
              "        &#x27;center&#x27;             10\n",
              "        ==================   =============\n",
              "    \n",
              "bbox_to_anchor : `.BboxBase`, 2-tuple, or 4-tuple of floats\n",
              "    Box that is used to position the legend in conjunction with *loc*.\n",
              "    Defaults to `axes.bbox` (if called as a method to `.Axes.legend`) or\n",
              "    `figure.bbox` (if `.Figure.legend`).  This argument allows arbitrary\n",
              "    placement of the legend.\n",
              "\n",
              "    Bbox coordinates are interpreted in the coordinate system given by\n",
              "    *bbox_transform*, with the default transform\n",
              "    Axes or Figure coordinates, depending on which ``legend`` is called.\n",
              "\n",
              "    If a 4-tuple or `.BboxBase` is given, then it specifies the bbox\n",
              "    ``(x, y, width, height)`` that the legend is placed in.\n",
              "    To put the legend in the best location in the bottom right\n",
              "    quadrant of the axes (or figure)::\n",
              "\n",
              "        loc=&#x27;best&#x27;, bbox_to_anchor=(0.5, 0., 0.5, 0.5)\n",
              "\n",
              "    A 2-tuple ``(x, y)`` places the corner of the legend specified by *loc* at\n",
              "    x, y.  For example, to put the legend&#x27;s upper right-hand corner in the\n",
              "    center of the axes (or figure) the following keywords can be used::\n",
              "\n",
              "        loc=&#x27;upper right&#x27;, bbox_to_anchor=(0.5, 0.5)\n",
              "\n",
              "ncols : int, default: 1\n",
              "    The number of columns that the legend has.\n",
              "\n",
              "    For backward compatibility, the spelling *ncol* is also supported\n",
              "    but it is discouraged. If both are given, *ncols* takes precedence.\n",
              "\n",
              "prop : None or `matplotlib.font_manager.FontProperties` or dict\n",
              "    The font properties of the legend. If None (default), the current\n",
              "    :data:`matplotlib.rcParams` will be used.\n",
              "\n",
              "fontsize : int or {&#x27;xx-small&#x27;, &#x27;x-small&#x27;, &#x27;small&#x27;, &#x27;medium&#x27;, &#x27;large&#x27;, &#x27;x-large&#x27;, &#x27;xx-large&#x27;}\n",
              "    The font size of the legend. If the value is numeric the size will be the\n",
              "    absolute font size in points. String values are relative to the current\n",
              "    default font size. This argument is only used if *prop* is not specified.\n",
              "\n",
              "labelcolor : str or list, default: :rc:`legend.labelcolor`\n",
              "    The color of the text in the legend. Either a valid color string\n",
              "    (for example, &#x27;red&#x27;), or a list of color strings. The labelcolor can\n",
              "    also be made to match the color of the line or marker using &#x27;linecolor&#x27;,\n",
              "    &#x27;markerfacecolor&#x27; (or &#x27;mfc&#x27;), or &#x27;markeredgecolor&#x27; (or &#x27;mec&#x27;).\n",
              "\n",
              "    Labelcolor can be set globally using :rc:`legend.labelcolor`. If None,\n",
              "    use :rc:`text.color`.\n",
              "\n",
              "numpoints : int, default: :rc:`legend.numpoints`\n",
              "    The number of marker points in the legend when creating a legend\n",
              "    entry for a `.Line2D` (line).\n",
              "\n",
              "scatterpoints : int, default: :rc:`legend.scatterpoints`\n",
              "    The number of marker points in the legend when creating\n",
              "    a legend entry for a `.PathCollection` (scatter plot).\n",
              "\n",
              "scatteryoffsets : iterable of floats, default: ``[0.375, 0.5, 0.3125]``\n",
              "    The vertical offset (relative to the font size) for the markers\n",
              "    created for a scatter plot legend entry. 0.0 is at the base the\n",
              "    legend text, and 1.0 is at the top. To draw all markers at the\n",
              "    same height, set to ``[0.5]``.\n",
              "\n",
              "markerscale : float, default: :rc:`legend.markerscale`\n",
              "    The relative size of legend markers compared to the originally drawn ones.\n",
              "\n",
              "markerfirst : bool, default: True\n",
              "    If *True*, legend marker is placed to the left of the legend label.\n",
              "    If *False*, legend marker is placed to the right of the legend label.\n",
              "\n",
              "reverse : bool, default: False\n",
              "    If *True*, the legend labels are displayed in reverse order from the input.\n",
              "    If *False*, the legend labels are displayed in the same order as the input.\n",
              "\n",
              "    .. versionadded:: 3.7\n",
              "\n",
              "frameon : bool, default: :rc:`legend.frameon`\n",
              "    Whether the legend should be drawn on a patch (frame).\n",
              "\n",
              "fancybox : bool, default: :rc:`legend.fancybox`\n",
              "    Whether round edges should be enabled around the `.FancyBboxPatch` which\n",
              "    makes up the legend&#x27;s background.\n",
              "\n",
              "shadow : bool, default: :rc:`legend.shadow`\n",
              "    Whether to draw a shadow behind the legend.\n",
              "\n",
              "framealpha : float, default: :rc:`legend.framealpha`\n",
              "    The alpha transparency of the legend&#x27;s background.\n",
              "    If *shadow* is activated and *framealpha* is ``None``, the default value is\n",
              "    ignored.\n",
              "\n",
              "facecolor : &quot;inherit&quot; or color, default: :rc:`legend.facecolor`\n",
              "    The legend&#x27;s background color.\n",
              "    If ``&quot;inherit&quot;``, use :rc:`axes.facecolor`.\n",
              "\n",
              "edgecolor : &quot;inherit&quot; or color, default: :rc:`legend.edgecolor`\n",
              "    The legend&#x27;s background patch edge color.\n",
              "    If ``&quot;inherit&quot;``, use take :rc:`axes.edgecolor`.\n",
              "\n",
              "mode : {&quot;expand&quot;, None}\n",
              "    If *mode* is set to ``&quot;expand&quot;`` the legend will be horizontally\n",
              "    expanded to fill the axes area (or *bbox_to_anchor* if defines\n",
              "    the legend&#x27;s size).\n",
              "\n",
              "bbox_transform : None or `matplotlib.transforms.Transform`\n",
              "    The transform for the bounding box (*bbox_to_anchor*). For a value\n",
              "    of ``None`` (default) the Axes&#x27;\n",
              "    :data:`~matplotlib.axes.Axes.transAxes` transform will be used.\n",
              "\n",
              "title : str or None\n",
              "    The legend&#x27;s title. Default is no title (``None``).\n",
              "\n",
              "title_fontproperties : None or `matplotlib.font_manager.FontProperties` or dict\n",
              "    The font properties of the legend&#x27;s title. If None (default), the\n",
              "    *title_fontsize* argument will be used if present; if *title_fontsize* is\n",
              "    also None, the current :rc:`legend.title_fontsize` will be used.\n",
              "\n",
              "title_fontsize : int or {&#x27;xx-small&#x27;, &#x27;x-small&#x27;, &#x27;small&#x27;, &#x27;medium&#x27;, &#x27;large&#x27;, &#x27;x-large&#x27;, &#x27;xx-large&#x27;}, default: :rc:`legend.title_fontsize`\n",
              "    The font size of the legend&#x27;s title.\n",
              "    Note: This cannot be combined with *title_fontproperties*. If you want\n",
              "    to set the fontsize alongside other font properties, use the *size*\n",
              "    parameter in *title_fontproperties*.\n",
              "\n",
              "alignment : {&#x27;center&#x27;, &#x27;left&#x27;, &#x27;right&#x27;}, default: &#x27;center&#x27;\n",
              "    The alignment of the legend title and the box of entries. The entries\n",
              "    are aligned as a single block, so that markers always lined up.\n",
              "\n",
              "borderpad : float, default: :rc:`legend.borderpad`\n",
              "    The fractional whitespace inside the legend border, in font-size units.\n",
              "\n",
              "labelspacing : float, default: :rc:`legend.labelspacing`\n",
              "    The vertical space between the legend entries, in font-size units.\n",
              "\n",
              "handlelength : float, default: :rc:`legend.handlelength`\n",
              "    The length of the legend handles, in font-size units.\n",
              "\n",
              "handleheight : float, default: :rc:`legend.handleheight`\n",
              "    The height of the legend handles, in font-size units.\n",
              "\n",
              "handletextpad : float, default: :rc:`legend.handletextpad`\n",
              "    The pad between the legend handle and text, in font-size units.\n",
              "\n",
              "borderaxespad : float, default: :rc:`legend.borderaxespad`\n",
              "    The pad between the axes and legend border, in font-size units.\n",
              "\n",
              "columnspacing : float, default: :rc:`legend.columnspacing`\n",
              "    The spacing between columns, in font-size units.\n",
              "\n",
              "handler_map : dict or None\n",
              "    The custom dictionary mapping instances or types to a legend\n",
              "    handler. This *handler_map* updates the default handler map\n",
              "    found at `matplotlib.legend.Legend.get_legend_handler_map`.\n",
              "\n",
              "draggable : bool, default: False\n",
              "    Whether the legend can be dragged with the mouse.\n",
              "\n",
              "\n",
              "See Also\n",
              "--------\n",
              ".Figure.legend\n",
              "\n",
              "Notes\n",
              "-----\n",
              "Some artists are not supported by this function.  See\n",
              ":doc:`/tutorials/intermediate/legend_guide` for details.\n",
              "\n",
              "Examples\n",
              "--------\n",
              ".. plot:: gallery/text_labels_and_annotations/legend.py</pre>\n",
              "      <script>\n",
              "      if (google.colab.kernel.accessAllowed && google.colab.files && google.colab.files.view) {\n",
              "        for (const element of document.querySelectorAll('.filepath')) {\n",
              "          element.style.display = 'block'\n",
              "          element.onclick = (event) => {\n",
              "            event.preventDefault();\n",
              "            event.stopPropagation();\n",
              "            google.colab.files.view(element.textContent, 2708);\n",
              "          };\n",
              "        }\n",
              "      }\n",
              "      for (const element of document.querySelectorAll('.function-repr-contents')) {\n",
              "        element.onclick = (event) => {\n",
              "          event.preventDefault();\n",
              "          event.stopPropagation();\n",
              "          element.classList.toggle('function-repr-contents-collapsed');\n",
              "        };\n",
              "      }\n",
              "      </script>\n",
              "      </div>"
            ]
          },
          "metadata": {},
          "execution_count": 15
        },
        {
          "output_type": "display_data",
          "data": {
            "text/plain": [
              "<Figure size 1000x700 with 1 Axes>"
            ],
            "image/png": "[encoded data removed]"
          },
          "metadata": {}
        }
      ]
    },
    {
      "cell_type": "code",
      "source": [
        "#how to build a neural network for this data\n",
        "moedl = tf.keras.Sequential([\n",
        "    tf.keras.layers.Dense(100,activation=\"relu\"),\n",
        "    tf.keras.layers.Dense(1)\n",
        "])\n",
        "#compile de model\n",
        "model.compile(loss=tf.keras.losses.mae,\n",
        "              optimizer = tf.keras.optimizers.Adam(learning_rate=0.01),\n",
        "              metrics=[\"mae\"])\n",
        "#fit the model\n",
        "# model.fit(tf.expand_dims(x_train, axis=-1), y_train, epochs=100)"
      ],
      "metadata": {
        "id": "qyhrpn_OtOMQ"
      },
      "execution_count": null,
      "outputs": []
    },
    {
      "cell_type": "code",
      "source": [
        "# model.summery()\n",
        "tf.random.set_seed(42)\n",
        "model = tf.keras.Sequential([\n",
        "        tf.keras.layers.Dense(10,input_shape=[1] , name=\"input_layer\"),\n",
        "        tf.keras.layers.Dense(1, name=\"output_layer\")\n",
        "        ],name = \"model\")\n",
        "#compile the model\n",
        "model.compile(loss=tf.keras.losses.mae,\n",
        "              optimizer= tf.keras.optimizers.SGD(),\n",
        "              metrics=[\"mae\"])\n",
        "#fit the model\n",
        "model.fit(tf.expand_dims(x_train, axis=-1), y_train, epochs=100,verbose=0 )"
      ],
      "metadata": {
        "colab": {
          "base_uri": "https://localhost:8080/"
        },
        "id": "ox9iZm6Zu3Mp",
        "outputId": "1d3fc3a9-2ff6-4f50-f910-9403c98dc7e0"
      },
      "execution_count": null,
      "outputs": [
        {
          "output_type": "execute_result",
          "data": {
            "text/plain": [
              "<keras.src.callbacks.History at 0x7ed46f9a9270>"
            ]
          },
          "metadata": {},
          "execution_count": 17
        }
      ]
    },
    {
      "cell_type": "code",
      "source": [
        "model.build(input_shape=(None, 1))#prima di poter visualizzare il modello devi fare il buid é questa é la linea corretta del build\n",
        "## in piu i valori de fai un test per visualizare il loro rank ti rendi conto che di tratta di shape(50)\n",
        "# ma con un valore unico x[0] e y[0] per questo in  input shape vai a selezionare (1, input_shape[1])\n",
        "#        tf.keras.layers.Dense(1,input_shape=[1])\n",
        "\n"
      ],
      "metadata": {
        "id": "KjLeWsFRwmVq"
      },
      "execution_count": null,
      "outputs": []
    },
    {
      "cell_type": "code",
      "source": [
        "model.summary()"
      ],
      "metadata": {
        "colab": {
          "base_uri": "https://localhost:8080/"
        },
        "id": "tG-fZsZyxUxE",
        "outputId": "c2065f81-6dba-4867-ed7a-b4804f7d724a"
      },
      "execution_count": null,
      "outputs": [
        {
          "output_type": "stream",
          "name": "stdout",
          "text": [
            "Model: \"model\"\n",
            "_________________________________________________________________\n",
            " Layer (type)                Output Shape              Param #   \n",
            "=================================================================\n",
            " input_layer (Dense)         (None, 10)                20        \n",
            "                                                                 \n",
            " output_layer (Dense)        (None, 1)                 11        \n",
            "                                                                 \n",
            "=================================================================\n",
            "Total params: 31 (124.00 Byte)\n",
            "Trainable params: 31 (124.00 Byte)\n",
            "Non-trainable params: 0 (0.00 Byte)\n",
            "_________________________________________________________________\n"
          ]
        }
      ]
    },
    {
      "cell_type": "code",
      "source": [
        "from tensorflow.keras.utils import plot_model\n",
        "plot_model(model, show_shapes=True)"
      ],
      "metadata": {
        "colab": {
          "base_uri": "https://localhost:8080/",
          "height": 312
        },
        "id": "92zrkbWF1s4_",
        "outputId": "d819eb5c-12b2-43ce-ae0a-e66577e732d7"
      },
      "execution_count": null,
      "outputs": [
        {
          "output_type": "execute_result",
          "data": {
            "image/png": "[encoded data removed]",
            "text/plain": [
              "<IPython.core.display.Image object>"
            ]
          },
          "metadata": {},
          "execution_count": 20
        }
      ]
    },
    {
      "cell_type": "code",
      "source": [
        "y_pred = model.predict(x_test)\n",
        "y_pred"
      ],
      "metadata": {
        "colab": {
          "base_uri": "https://localhost:8080/"
        },
        "id": "WWgMPGP71-09",
        "outputId": "63d1cf42-aaf8-4e44-823b-28bebc8b4d19"
      },
      "execution_count": null,
      "outputs": [
        {
          "output_type": "stream",
          "name": "stdout",
          "text": [
            "1/1 [==============================] - 0s 102ms/step\n"
          ]
        },
        {
          "output_type": "execute_result",
          "data": {
            "text/plain": [
              "array([[ 75.93955 ],\n",
              "       [ 80.885826],\n",
              "       [ 85.8321  ],\n",
              "       [ 90.77838 ],\n",
              "       [ 95.72465 ],\n",
              "       [100.67094 ],\n",
              "       [105.61721 ],\n",
              "       [110.56348 ],\n",
              "       [115.50975 ],\n",
              "       [120.45603 ]], dtype=float32)"
            ]
          },
          "metadata": {},
          "execution_count": 21
        }
      ]
    },
    {
      "cell_type": "code",
      "source": [
        "y_test"
      ],
      "metadata": {
        "colab": {
          "base_uri": "https://localhost:8080/"
        },
        "id": "_UJUkfGE6Sso",
        "outputId": "306e310c-34ac-454c-de67-09132749cb7a"
      },
      "execution_count": null,
      "outputs": [
        {
          "output_type": "execute_result",
          "data": {
            "text/plain": [
              "<tf.Tensor: shape=(10,), dtype=int32, numpy=array([ 70,  74,  78,  82,  86,  90,  94,  98, 102, 106], dtype=int32)>"
            ]
          },
          "metadata": {},
          "execution_count": 22
        }
      ]
    },
    {
      "cell_type": "code",
      "source": [
        "def plot_predictions(train_data=x_train,\n",
        "                     train_labels=y_train,\n",
        "                     test_data=x_test,\n",
        "                     test_labels=y_test,\n",
        "                     predictions=y_pred):\n",
        "  \"\"\"\n",
        "  Plots training data, test data and compares predictions.\n",
        "  \"\"\"\n",
        "  plt.figure(figsize=(10, 7))\n",
        "  # Plot training data in blue\n",
        "  plt.scatter(train_data, train_labels, c=\"b\", label=\"Training data\")\n",
        "  # Plot testing data in green\n",
        "  plt.scatter(test_data, test_labels, c=\"g\", label=\"Testing data\")\n",
        "  # Plot the predictions in\n",
        "  plt.scatter(test_data, predictions, c=\"r\", label=\"Predictions\")\n",
        "  # Show the legend\n",
        "  plt.legend()\n"
      ],
      "metadata": {
        "id": "Myo9grJX7iot"
      },
      "execution_count": null,
      "outputs": []
    },
    {
      "cell_type": "code",
      "source": [
        "plot_predictions()"
      ],
      "metadata": {
        "colab": {
          "base_uri": "https://localhost:8080/",
          "height": 599
        },
        "id": "gfF0s3In7t6x",
        "outputId": "c0885eca-651f-47e4-ea77-1bcf10bad0d1"
      },
      "execution_count": null,
      "outputs": [
        {
          "output_type": "display_data",
          "data": {
            "text/plain": [
              "<Figure size 1000x700 with 1 Axes>"
            ],
            "image/png": "[encoded data removed]"
          },
          "metadata": {}
        }
      ]
    },
    {
      "cell_type": "code",
      "source": [
        "model.evaluate(x_test, y_test)"
      ],
      "metadata": {
        "colab": {
          "base_uri": "https://localhost:8080/"
        },
        "id": "EwZPT8Mc-fji",
        "outputId": "a2a5a4b0-738d-4fbe-aa40-8d3b3fc1bb9f"
      },
      "execution_count": null,
      "outputs": [
        {
          "output_type": "stream",
          "name": "stdout",
          "text": [
            "1/1 [==============================] - 0s 293ms/step - loss: 10.1978 - mae: 10.1978\n"
          ]
        },
        {
          "output_type": "execute_result",
          "data": {
            "text/plain": [
              "[10.19779109954834, 10.19779109954834]"
            ]
          },
          "metadata": {},
          "execution_count": 25
        }
      ]
    },
    {
      "cell_type": "code",
      "source": [
        "tf.metrics.mean_absolute_error(y_test, y_pred)"
      ],
      "metadata": {
        "colab": {
          "base_uri": "https://localhost:8080/"
        },
        "id": "I6aIt5VBA42c",
        "outputId": "2307fe31-159b-4f45-e65f-4806e926372d"
      },
      "execution_count": null,
      "outputs": [
        {
          "output_type": "execute_result",
          "data": {
            "text/plain": [
              "<tf.Tensor: shape=(10,), dtype=float32, numpy=\n",
              "array([13.636269, 11.245669, 10.03358 , 10.155676, 11.489859, 14.002562,\n",
              "       17.693768, 22.563477, 27.50975 , 32.45603 ], dtype=float32)>"
            ]
          },
          "metadata": {},
          "execution_count": 26
        }
      ]
    },
    {
      "cell_type": "code",
      "source": [
        "y_test"
      ],
      "metadata": {
        "colab": {
          "base_uri": "https://localhost:8080/"
        },
        "id": "X-o57mDfJUOi",
        "outputId": "a08339bb-5a8b-41a2-a04e-249671145af5"
      },
      "execution_count": null,
      "outputs": [
        {
          "output_type": "execute_result",
          "data": {
            "text/plain": [
              "<tf.Tensor: shape=(10,), dtype=int32, numpy=array([ 70,  74,  78,  82,  86,  90,  94,  98, 102, 106], dtype=int32)>"
            ]
          },
          "metadata": {},
          "execution_count": 27
        }
      ]
    },
    {
      "cell_type": "code",
      "source": [
        "tf.constant(y_pred)"
      ],
      "metadata": {
        "colab": {
          "base_uri": "https://localhost:8080/"
        },
        "id": "Wi3cTVO8JYmw",
        "outputId": "e1824d89-195d-4a4e-dbf4-1f4b35f89e0a"
      },
      "execution_count": null,
      "outputs": [
        {
          "output_type": "execute_result",
          "data": {
            "text/plain": [
              "<tf.Tensor: shape=(10, 1), dtype=float32, numpy=\n",
              "array([[ 75.93955 ],\n",
              "       [ 80.885826],\n",
              "       [ 85.8321  ],\n",
              "       [ 90.77838 ],\n",
              "       [ 95.72465 ],\n",
              "       [100.67094 ],\n",
              "       [105.61721 ],\n",
              "       [110.56348 ],\n",
              "       [115.50975 ],\n",
              "       [120.45603 ]], dtype=float32)>"
            ]
          },
          "metadata": {},
          "execution_count": 28
        }
      ]
    },
    {
      "cell_type": "code",
      "source": [
        "tf.squeeze(y_pred)"
      ],
      "metadata": {
        "colab": {
          "base_uri": "https://localhost:8080/"
        },
        "id": "eoQwnoKEifJk",
        "outputId": "23be95a9-7b65-4dac-f9b9-66b1b937c804"
      },
      "execution_count": null,
      "outputs": [
        {
          "output_type": "execute_result",
          "data": {
            "text/plain": [
              "<tf.Tensor: shape=(10,), dtype=float32, numpy=\n",
              "array([ 75.93955 ,  80.885826,  85.8321  ,  90.77838 ,  95.72465 ,\n",
              "       100.67094 , 105.61721 , 110.56348 , 115.50975 , 120.45603 ],\n",
              "      dtype=float32)>"
            ]
          },
          "metadata": {},
          "execution_count": 29
        }
      ]
    },
    {
      "cell_type": "code",
      "source": [
        "mea = tf.metrics.mean_absolute_error(y_true= y_test,y_pred = tf.squeeze(y_pred))\n",
        "mea"
      ],
      "metadata": {
        "colab": {
          "base_uri": "https://localhost:8080/"
        },
        "id": "yoHQ9qIRilrO",
        "outputId": "a90915bb-631a-402b-f1a0-04b5f7dd8151"
      },
      "execution_count": null,
      "outputs": [
        {
          "output_type": "execute_result",
          "data": {
            "text/plain": [
              "<tf.Tensor: shape=(), dtype=float32, numpy=10.197791>"
            ]
          },
          "metadata": {},
          "execution_count": 30
        }
      ]
    },
    {
      "cell_type": "code",
      "source": [
        "mean_square = tf.metrics.mean_squared_error(y_true= y_test,y_pred = tf.squeeze(y_pred))\n",
        "mean_square## mse range error calculation"
      ],
      "metadata": {
        "colab": {
          "base_uri": "https://localhost:8080/"
        },
        "id": "A6a8k8UUkcOF",
        "outputId": "05dfa36d-80c5-41f5-dc91-b9697fee8002"
      },
      "execution_count": null,
      "outputs": [
        {
          "output_type": "execute_result",
          "data": {
            "text/plain": [
              "<tf.Tensor: shape=(), dtype=float32, numpy=111.3823>"
            ]
          },
          "metadata": {},
          "execution_count": 31
        }
      ]
    },
    {
      "cell_type": "code",
      "source": [
        "#make some function to use mae and mse\n",
        "\n",
        "def mae(y_true, y_pred):\n",
        "  return tf.metrics.mean_absolute_error(y_true, tf.squeeze(y_pred))\n",
        "\n",
        "def mse(y_true, y_pred):\n",
        "  return tf.metrics.mean_squared_error(y_true, tf.squeeze(y_pred))\n",
        "\n"
      ],
      "metadata": {
        "id": "g30EHEXSlg3O"
      },
      "execution_count": null,
      "outputs": []
    },
    {
      "cell_type": "code",
      "source": [
        "#three modeling experiments\n",
        "#model_1 same as the original just with more epochs\n",
        "#model_2 add 1 layer and trained for 100 epochs\n",
        "#model_3 add 2 layers and trained for 200 epochs\n"
      ],
      "metadata": {
        "id": "llYp8JREmviX"
      },
      "execution_count": null,
      "outputs": []
    },
    {
      "cell_type": "code",
      "source": [
        "tf.random.set_seed(42)\n",
        "\n",
        "# Supponiamo che x_train, y_train, x_test e y_test siano già definiti\n",
        "\n",
        "# Crea il modello\n",
        "model_1 = tf.keras.Sequential([\n",
        "    tf.keras.layers.Dense(1, input_shape=[1], name=\"input_layer\",),\n",
        "    tf.keras.layers.Dense(100, activation=\"relu\"),\n",
        "    tf.keras.layers.Dense(1, name=\"output_layer\")\n",
        "])\n",
        "\n",
        "# Compila il modello\n",
        "model_1.compile(\n",
        "    loss=tf.keras.losses.MeanAbsoluteError(),\n",
        "    optimizer=tf.keras.optimizers.SGD(learning_rate=0.001),  # Puoi sperimentare con il tasso di apprendimento\n",
        "    metrics=[\"mae\"]\n",
        ")\n",
        "\n",
        "# Addestra il modello\n",
        "history = model_1.fit(tf.expand_dims(x_train, axis=-1), y_train, epochs=100, verbose=0)\n",
        "\n",
        "# Fai previsioni\n",
        "y_preds_1 = model_1.predict(tf.expand_dims(x_test, axis=-1))\n",
        "y_preds_1 = tf.squeeze(y_preds_1)\n",
        "\n",
        "# Funzione per plottare le previsioni\n",
        "def plot_predictions(predictions):\n",
        "    plt.figure(figsize=(7, 5))\n",
        "    plt.scatter(x_train, y_train, c='b', label='Training data')\n",
        "    plt.scatter(x_test, y_test, c='g', label='Testing data')\n",
        "    plt.scatter(x_test, predictions, c='r', label='Predictions')\n",
        "    plt.legend()\n",
        "    plt.show()\n",
        "\n",
        "# Plotta le previsioni\n",
        "plot_predictions(y_preds_1)\n",
        "\n",
        "# Calcola e stampa MAE e MSE\n",
        "def mae(y_true, y_pred):\n",
        "    return tf.keras.metrics.mean_absolute_error(y_true, y_pred).numpy()\n",
        "\n",
        "def mse(y_true, y_pred):\n",
        "    return tf.keras.metrics.mean_squared_error(y_true, y_pred).numpy()\n",
        "\n",
        "mae_1 = mae(y_true=y_test, y_pred=y_preds_1)\n",
        "mse_1 = mse(y_true=y_test, y_pred=y_preds_1)\n",
        "print(f'MAE: {mae_1}, MSE: {mse_1}')\n"
      ],
      "metadata": {
        "colab": {
          "base_uri": "https://localhost:8080/",
          "height": 481
        },
        "id": "Iujpdxy9pmfx",
        "outputId": "8be6c1b2-d404-48c9-b177-243e0b363d85"
      },
      "execution_count": null,
      "outputs": [
        {
          "output_type": "stream",
          "name": "stdout",
          "text": [
            "1/1 [==============================] - 0s 140ms/step\n"
          ]
        },
        {
          "output_type": "display_data",
          "data": {
            "text/plain": [
              "<Figure size 700x500 with 1 Axes>"
            ],
            "image/png": "[encoded data removed]"
          },
          "metadata": {}
        },
        {
          "output_type": "stream",
          "name": "stdout",
          "text": [
            "MAE: 5.148684501647949, MSE: 31.390405654907227\n"
          ]
        }
      ]
    },
    {
      "cell_type": "code",
      "source": [
        "tf.random.set_seed(42)\n",
        "\n",
        "model_2 = tf.keras.Sequential([\n",
        "    tf.keras.layers.Dense(1, input_shape=[1]),\n",
        "    tf.keras.layers.Dense(1, name=\"output_layer\")\n",
        "])\n",
        "\n",
        "model_2.compile(loss=tf.keras.losses.mae,\n",
        "                optimizer=tf.keras.optimizers.Adam(learning_rate=0.01),\n",
        "                metrics=[\"mae\"])\n",
        "\n",
        "model_2.fit(tf.expand_dims(x_train, axis=-1), y_train, epochs=500, verbose=0)\n",
        "y_preds_2 = model_2.predict(tf.expand_dims(x_test, axis=-1))\n",
        "\n",
        "# Controllo delle dimensioni\n",
        "print(f\"x_test shape: {x_test.shape}\")\n",
        "print(f\"y_preds_2 shape: {y_preds_2.shape}\")\n",
        "\n",
        "# Assicurati che le dimensioni coincidano\n",
        "if x_test.shape[0] != y_preds_2.shape[0]:\n",
        "    print(\"Error: x_test and y_preds_2 have different lengths\")\n",
        "else:\n",
        "    # Plot delle previsioni se le dimensioni coincidono\n",
        "    plt.figure(figsize=(10,7))\n",
        "    plt.scatter(x_train, y_train, c=\"b\", label=\"training data\")\n",
        "    plt.scatter(x_test, y_test, c=\"g\", label=\"testing data\")\n",
        "    plt.scatter(x_test, y_preds_2, c=\"r\", label=\"predictions\")\n",
        "    plt.legend()\n",
        "    plt.show()\n",
        "\n",
        "# Calcolo degli errori MAE e MSE\n",
        "def mae(y_true, y_pred):\n",
        "    return tf.keras.metrics.mean_absolute_error(y_true, y_pred)\n",
        "\n",
        "def mse(y_true, y_pred):\n",
        "    return tf.keras.metrics.mean_squared_error(y_true, y_pred)\n",
        "\n",
        "mae_2 = mae(y_true=y_test, y_pred=tf.squeeze(y_preds_2))\n",
        "mse_2 = mse(y_true=y_test, y_pred=tf.squeeze(y_preds_2))\n",
        "print(f'MAE: {mae_2}, MSE: {mse_2}')\n"
      ],
      "metadata": {
        "colab": {
          "base_uri": "https://localhost:8080/",
          "height": 708
        },
        "id": "M7xeYmSbvXBV",
        "outputId": "258be6d8-ceff-4dd6-f9e7-312ab3e60780"
      },
      "execution_count": null,
      "outputs": [
        {
          "output_type": "stream",
          "name": "stderr",
          "text": [
            "WARNING:tensorflow:5 out of the last 5 calls to <function Model.make_predict_function.<locals>.predict_function at 0x7ed46ea8aef0> triggered tf.function retracing. Tracing is expensive and the excessive number of tracings could be due to (1) creating @tf.function repeatedly in a loop, (2) passing tensors with different shapes, (3) passing Python objects instead of tensors. For (1), please define your @tf.function outside of the loop. For (2), @tf.function has reduce_retracing=True option that can avoid unnecessary retracing. For (3), please refer to https://www.tensorflow.org/guide/function#controlling_retracing and https://www.tensorflow.org/api_docs/python/tf/function for  more details.\n"
          ]
        },
        {
          "output_type": "stream",
          "name": "stdout",
          "text": [
            "1/1 [==============================] - 0s 56ms/step\n",
            "x_test shape: (10,)\n",
            "y_preds_2 shape: (10, 1)\n"
          ]
        },
        {
          "output_type": "display_data",
          "data": {
            "text/plain": [
              "<Figure size 1000x700 with 1 Axes>"
            ],
            "image/png": "[encoded data removed]"
          },
          "metadata": {}
        },
        {
          "output_type": "stream",
          "name": "stdout",
          "text": [
            "MAE: 0.032927703112363815, MSE: 0.001116567524150014\n"
          ]
        }
      ]
    },
    {
      "cell_type": "code",
      "source": [
        "#lets compare  our model's result using  a pandas Dataframe\n",
        "import pandas as pd\n",
        "\n",
        "model_result = [[\"model_1\" , mae_1, mse_1],\n",
        "                [\"model_2\" , mae_2.numpy(), mse_2.numpy()]]\n",
        "\n",
        "all_result = pd.DataFrame(model_result, columns=[\"model\", \"mae\", \"mse\"])\n",
        "print (all_result)"
      ],
      "metadata": {
        "id": "2P-CEdHw4sjS",
        "colab": {
          "base_uri": "https://localhost:8080/"
        },
        "outputId": "3f36eb28-7aa5-4be2-adef-9fe916834dae"
      },
      "execution_count": null,
      "outputs": [
        {
          "output_type": "stream",
          "name": "stdout",
          "text": [
            "     model       mae        mse\n",
            "0  model_1  5.148685  31.390406\n",
            "1  model_2  0.032928   0.001117\n"
          ]
        }
      ]
    },
    {
      "cell_type": "code",
      "source": [
        "model_2.summary()"
      ],
      "metadata": {
        "colab": {
          "base_uri": "https://localhost:8080/"
        },
        "id": "e5PDkKHu-mvs",
        "outputId": "a06e619f-9cdf-478d-ae9f-2dc749e082ce"
      },
      "execution_count": null,
      "outputs": [
        {
          "output_type": "stream",
          "name": "stdout",
          "text": [
            "Model: \"sequential_4\"\n",
            "_________________________________________________________________\n",
            " Layer (type)                Output Shape              Param #   \n",
            "=================================================================\n",
            " dense_6 (Dense)             (None, 1)                 2         \n",
            "                                                                 \n",
            " output_layer (Dense)        (None, 1)                 2         \n",
            "                                                                 \n",
            "=================================================================\n",
            "Total params: 4 (16.00 Byte)\n",
            "Trainable params: 4 (16.00 Byte)\n",
            "Non-trainable params: 0 (0.00 Byte)\n",
            "_________________________________________________________________\n"
          ]
        }
      ]
    },
    {
      "cell_type": "markdown",
      "source": [
        " saving our models sections and loading them back\n",
        " save our model allows us to use them outside of our notebook oe where we trained them  export them and import them in a web application or mobile app...\n",
        "\n",
        "\n",
        " there a re two main formato to save our model:\n",
        " -the savedModel format\n",
        " -the HDF5 format\n",
        "\n",
        "  per il load: tf.keras.models.load_model\n"
      ],
      "metadata": {
        "id": "Y4vsYWmsCOLj"
      }
    },
    {
      "cell_type": "code",
      "source": [
        "# using savedModel\n",
        "model_2.save(\"bestModel\")"
      ],
      "metadata": {
        "id": "b7sNdUBfC861"
      },
      "execution_count": null,
      "outputs": []
    },
    {
      "cell_type": "code",
      "source": [
        "# using HDF5 save\n",
        "model_2.save(\"bestModel.h5\")"
      ],
      "metadata": {
        "colab": {
          "base_uri": "https://localhost:8080/"
        },
        "id": "IoZGc7CjDw_n",
        "outputId": "7162aebb-1712-487e-eae5-a7e9c98e567e"
      },
      "execution_count": null,
      "outputs": [
        {
          "output_type": "stream",
          "name": "stderr",
          "text": [
            "/usr/local/lib/python3.10/dist-packages/keras/src/engine/training.py:3103: UserWarning: You are saving your model as an HDF5 file via `model.save()`. This file format is considered legacy. We recommend using instead the native Keras format, e.g. `model.save('my_model.keras')`.\n",
            "  saving_api.save_model(\n"
          ]
        }
      ]
    },
    {
      "cell_type": "code",
      "source": [
        "# loading the savedmodel formato model\n",
        "loaded_model = tf.keras.models.load_model(\"/content/bestModel\")\n",
        "loaded_model.summary()"
      ],
      "metadata": {
        "colab": {
          "base_uri": "https://localhost:8080/"
        },
        "id": "ylmR1L-xFJqQ",
        "outputId": "73fb063e-6048-45e8-cee6-a090a7d0bef2"
      },
      "execution_count": null,
      "outputs": [
        {
          "output_type": "stream",
          "name": "stdout",
          "text": [
            "Model: \"sequential_4\"\n",
            "_________________________________________________________________\n",
            " Layer (type)                Output Shape              Param #   \n",
            "=================================================================\n",
            " dense_6 (Dense)             (None, 1)                 2         \n",
            "                                                                 \n",
            " output_layer (Dense)        (None, 1)                 2         \n",
            "                                                                 \n",
            "=================================================================\n",
            "Total params: 4 (16.00 Byte)\n",
            "Trainable params: 4 (16.00 Byte)\n",
            "Non-trainable params: 0 (0.00 Byte)\n",
            "_________________________________________________________________\n"
          ]
        }
      ]
    },
    {
      "cell_type": "code",
      "source": [
        "model_2.summary()"
      ],
      "metadata": {
        "colab": {
          "base_uri": "https://localhost:8080/"
        },
        "id": "qdcRWYxWFwN-",
        "outputId": "1189deb5-2043-415c-99b8-8c1c7d1a26a1"
      },
      "execution_count": null,
      "outputs": [
        {
          "output_type": "stream",
          "name": "stdout",
          "text": [
            "Model: \"sequential_4\"\n",
            "_________________________________________________________________\n",
            " Layer (type)                Output Shape              Param #   \n",
            "=================================================================\n",
            " dense_6 (Dense)             (None, 1)                 2         \n",
            "                                                                 \n",
            " output_layer (Dense)        (None, 1)                 2         \n",
            "                                                                 \n",
            "=================================================================\n",
            "Total params: 4 (16.00 Byte)\n",
            "Trainable params: 4 (16.00 Byte)\n",
            "Non-trainable params: 0 (0.00 Byte)\n",
            "_________________________________________________________________\n"
          ]
        }
      ]
    },
    {
      "cell_type": "code",
      "source": [
        "# compare now the loaded model  prediction with the prediction of the real model\n",
        "load = loaded_model.predict(tf.expand_dims(x_test, axis=-1))\n",
        "previous = model_2.predict(tf.expand_dims(x_test, axis=-1))\n",
        "load == previous\n"
      ],
      "metadata": {
        "colab": {
          "base_uri": "https://localhost:8080/"
        },
        "id": "9icMWYgUF3Ua",
        "outputId": "d332cec0-fd5f-4a85-b606-3a12a0e4b6ca"
      },
      "execution_count": null,
      "outputs": [
        {
          "output_type": "stream",
          "name": "stderr",
          "text": [
            "WARNING:tensorflow:6 out of the last 6 calls to <function Model.make_predict_function.<locals>.predict_function at 0x7ed46f43c9d0> triggered tf.function retracing. Tracing is expensive and the excessive number of tracings could be due to (1) creating @tf.function repeatedly in a loop, (2) passing tensors with different shapes, (3) passing Python objects instead of tensors. For (1), please define your @tf.function outside of the loop. For (2), @tf.function has reduce_retracing=True option that can avoid unnecessary retracing. For (3), please refer to https://www.tensorflow.org/guide/function#controlling_retracing and https://www.tensorflow.org/api_docs/python/tf/function for  more details.\n"
          ]
        },
        {
          "output_type": "stream",
          "name": "stdout",
          "text": [
            "1/1 [==============================] - 0s 54ms/step\n",
            "1/1 [==============================] - 0s 26ms/step\n"
          ]
        },
        {
          "output_type": "execute_result",
          "data": {
            "text/plain": [
              "array([[ True],\n",
              "       [ True],\n",
              "       [ True],\n",
              "       [ True],\n",
              "       [ True],\n",
              "       [ True],\n",
              "       [ True],\n",
              "       [ True],\n",
              "       [ True],\n",
              "       [ True]])"
            ]
          },
          "metadata": {},
          "execution_count": 42
        }
      ]
    },
    {
      "cell_type": "code",
      "source": [
        "loaded_model = tf.keras.models.load_model(\"/content/bestModel.h5\")\n",
        "pre = model_2.predict(tf.expand_dims(x_test, axis=-1))\n",
        "loaded_model == pre\n",
        "\n",
        "# Il confronto loaded_model == pre restituisce un array di valori booleani False perché stai cercando di confrontare due oggetti@ TensorFlow/Keras (modelli) direttamente usando l'operatore ==, il quale non è adatto per confrontare oggetti complessi come i modelli o i tensori in questo modo.\n",
        "\n"
      ],
      "metadata": {
        "colab": {
          "base_uri": "https://localhost:8080/"
        },
        "id": "1EBGpVnnHR5i",
        "outputId": "100eb1ad-dd74-45ee-eff0-199572ff8103"
      },
      "execution_count": null,
      "outputs": [
        {
          "output_type": "stream",
          "name": "stdout",
          "text": [
            "1/1 [==============================] - 0s 21ms/step\n"
          ]
        },
        {
          "output_type": "execute_result",
          "data": {
            "text/plain": [
              "array([[False],\n",
              "       [False],\n",
              "       [False],\n",
              "       [False],\n",
              "       [False],\n",
              "       [False],\n",
              "       [False],\n",
              "       [False],\n",
              "       [False],\n",
              "       [False]])"
            ]
          },
          "metadata": {},
          "execution_count": 43
        }
      ]
    },
    {
      "cell_type": "code",
      "source": [
        "\n",
        "\n",
        "import numpy as np\n",
        "\n",
        "# Carica il modello\n",
        "loaded_model = tf.keras.models.load_model(\"/content/bestModel.h5\")\n",
        "\n",
        "# Esegui le previsioni\n",
        "loaded_predictions = loaded_model.predict(tf.expand_dims(x_test, axis=-1))\n",
        "current_predictions = model_2.predict(tf.expand_dims(x_test, axis=-1))\n",
        "\n",
        "# Verifica le forme\n",
        "print(f\"Shape of loaded_predictions: {loaded_predictions.shape}\")\n",
        "print(f\"Shape of current_predictions: {current_predictions.shape}\")\n",
        "\n",
        "# Confronta i valori\n",
        "comparison = np.allclose(loaded_predictions, current_predictions, atol=1e-6)\n",
        "print(f\"Are the predictions approximately equal? {comparison}\")\n",
        "\n",
        "# Stampa delle differenze, se presenti\n",
        "if not comparison:\n",
        "    differences = np.abs(loaded_predictions - current_predictions)\n",
        "    print(\"Differences between predictions:\")\n",
        "    print(differences)\n"
      ],
      "metadata": {
        "colab": {
          "base_uri": "https://localhost:8080/"
        },
        "id": "-qvlpPfhIXwa",
        "outputId": "84551142-0f24-4ec0-cef1-8bfc5b082bf1"
      },
      "execution_count": null,
      "outputs": [
        {
          "output_type": "stream",
          "name": "stdout",
          "text": [
            "1/1 [==============================] - 0s 54ms/step\n",
            "1/1 [==============================] - 0s 22ms/step\n",
            "Shape of loaded_predictions: (10, 1)\n",
            "Shape of current_predictions: (10, 1)\n",
            "Are the predictions approximately equal? True\n"
          ]
        }
      ]
    },
    {
      "cell_type": "code",
      "source": [
        "# how  to download the file from google collab\n",
        "from google.colab import files\n",
        "files.download(\"/content/bestModel.h5\")\n"
      ],
      "metadata": {
        "colab": {
          "base_uri": "https://localhost:8080/",
          "height": 17
        },
        "id": "qw-iJ8jqIvPr",
        "outputId": "65223263-b0f8-4e47-ca89-1ed6226d1215"
      },
      "execution_count": null,
      "outputs": [
        {
          "output_type": "display_data",
          "data": {
            "text/plain": [
              "<IPython.core.display.Javascript object>"
            ],
            "application/javascript": [
              "\n",
              "    async function download(id, filename, size) {\n",
              "      if (!google.colab.kernel.accessAllowed) {\n",
              "        return;\n",
              "      }\n",
              "      const div = document.createElement('div');\n",
              "      const label = document.createElement('label');\n",
              "      label.textContent = `Downloading \"${filename}\": `;\n",
              "      div.appendChild(label);\n",
              "      const progress = document.createElement('progress');\n",
              "      progress.max = size;\n",
              "      div.appendChild(progress);\n",
              "      document.body.appendChild(div);\n",
              "\n",
              "      const buffers = [];\n",
              "      let downloaded = 0;\n",
              "\n",
              "      const channel = await google.colab.kernel.comms.open(id);\n",
              "      // Send a message to notify the kernel that we're ready.\n",
              "      channel.send({})\n",
              "\n",
              "      for await (const message of channel.messages) {\n",
              "        // Send a message to notify the kernel that we're ready.\n",
              "        channel.send({})\n",
              "        if (message.buffers) {\n",
              "          for (const buffer of message.buffers) {\n",
              "            buffers.push(buffer);\n",
              "            downloaded += buffer.byteLength;\n",
              "            progress.value = downloaded;\n",
              "          }\n",
              "        }\n",
              "      }\n",
              "      const blob = new Blob(buffers, {type: 'application/binary'});\n",
              "      const a = document.createElement('a');\n",
              "      a.href = window.URL.createObjectURL(blob);\n",
              "      a.download = filename;\n",
              "      div.appendChild(a);\n",
              "      a.click();\n",
              "      div.remove();\n",
              "    }\n",
              "  "
            ]
          },
          "metadata": {}
        },
        {
          "output_type": "display_data",
          "data": {
            "text/plain": [
              "<IPython.core.display.Javascript object>"
            ],
            "application/javascript": [
              "download(\"download_07f79774-cac1-486b-9982-da30b025668c\", \"bestModel.h5\", 26200)"
            ]
          },
          "metadata": {}
        }
      ]
    },
    {
      "cell_type": "markdown",
      "source": [
        "Prearing a dataset for regression a bigger one"
      ],
      "metadata": {
        "id": "sLab34MVMZG0"
      }
    },
    {
      "cell_type": "code",
      "source": [
        "# import required library\n",
        "import numpy as np\n",
        "import pandas as pd\n",
        "import matplotlib.pyplot as plt\n"
      ],
      "metadata": {
        "id": "BjZIok78Mf43"
      },
      "execution_count": null,
      "outputs": []
    },
    {
      "cell_type": "code",
      "source": [
        "# reading the insurance dataset\n",
        "insurance = pd.read_csv(\"https://raw.githubusercontent.com/stedy/Machine-Learning-with-R-datasets/master/insurance.csv\")\n",
        "insurance"
      ],
      "metadata": {
        "colab": {
          "base_uri": "https://localhost:8080/",
          "height": 424
        },
        "id": "okAz7Y0dPQrj",
        "outputId": "d6027ec5-8450-4a0f-85c7-ff6aa60ef773"
      },
      "execution_count": null,
      "outputs": [
        {
          "output_type": "execute_result",
          "data": {
            "text/plain": [
              "      age     sex     bmi  children smoker     region      charges\n",
              "0      19  female  27.900         0    yes  southwest  16884.92400\n",
              "1      18    male  33.770         1     no  southeast   1725.55230\n",
              "2      28    male  33.000         3     no  southeast   4449.46200\n",
              "3      33    male  22.705         0     no  northwest  21984.47061\n",
              "4      32    male  28.880         0     no  northwest   3866.85520\n",
              "...   ...     ...     ...       ...    ...        ...          ...\n",
              "1333   50    male  30.970         3     no  northwest  10600.54830\n",
              "1334   18  female  31.920         0     no  northeast   2205.98080\n",
              "1335   18  female  36.850         0     no  southeast   1629.83350\n",
              "1336   21  female  25.800         0     no  southwest   2007.94500\n",
              "1337   61  female  29.070         0    yes  northwest  29141.36030\n",
              "\n",
              "[1338 rows x 7 columns]"
            ],
            "text/html": [
              "\n",
              "  <div id=\"df-99f968f6-45e6-4c24-ad1a-003fed56a0e6\" class=\"colab-df-container\">\n",
              "    <div>\n",
              "<style scoped>\n",
              "    .dataframe tbody tr th:only-of-type {\n",
              "        vertical-align: middle;\n",
              "    }\n",
              "\n",
              "    .dataframe tbody tr th {\n",
              "        vertical-align: top;\n",
              "    }\n",
              "\n",
              "    .dataframe thead th {\n",
              "        text-align: right;\n",
              "    }\n",
              "</style>\n",
              "<table border=\"1\" class=\"dataframe\">\n",
              "  <thead>\n",
              "    <tr style=\"text-align: right;\">\n",
              "      <th></th>\n",
              "      <th>age</th>\n",
              "      <th>sex</th>\n",
              "      <th>bmi</th>\n",
              "      <th>children</th>\n",
              "      <th>smoker</th>\n",
              "      <th>region</th>\n",
              "      <th>charges</th>\n",
              "    </tr>\n",
              "  </thead>\n",
              "  <tbody>\n",
              "    <tr>\n",
              "      <th>0</th>\n",
              "      <td>19</td>\n",
              "      <td>female</td>\n",
              "      <td>27.900</td>\n",
              "      <td>0</td>\n",
              "      <td>yes</td>\n",
              "      <td>southwest</td>\n",
              "      <td>16884.92400</td>\n",
              "    </tr>\n",
              "    <tr>\n",
              "      <th>1</th>\n",
              "      <td>18</td>\n",
              "      <td>male</td>\n",
              "      <td>33.770</td>\n",
              "      <td>1</td>\n",
              "      <td>no</td>\n",
              "      <td>southeast</td>\n",
              "      <td>1725.55230</td>\n",
              "    </tr>\n",
              "    <tr>\n",
              "      <th>2</th>\n",
              "      <td>28</td>\n",
              "      <td>male</td>\n",
              "      <td>33.000</td>\n",
              "      <td>3</td>\n",
              "      <td>no</td>\n",
              "      <td>southeast</td>\n",
              "      <td>4449.46200</td>\n",
              "    </tr>\n",
              "    <tr>\n",
              "      <th>3</th>\n",
              "      <td>33</td>\n",
              "      <td>male</td>\n",
              "      <td>22.705</td>\n",
              "      <td>0</td>\n",
              "      <td>no</td>\n",
              "      <td>northwest</td>\n",
              "      <td>21984.47061</td>\n",
              "    </tr>\n",
              "    <tr>\n",
              "      <th>4</th>\n",
              "      <td>32</td>\n",
              "      <td>male</td>\n",
              "      <td>28.880</td>\n",
              "      <td>0</td>\n",
              "      <td>no</td>\n",
              "      <td>northwest</td>\n",
              "      <td>3866.85520</td>\n",
              "    </tr>\n",
              "    <tr>\n",
              "      <th>...</th>\n",
              "      <td>...</td>\n",
              "      <td>...</td>\n",
              "      <td>...</td>\n",
              "      <td>...</td>\n",
              "      <td>...</td>\n",
              "      <td>...</td>\n",
              "      <td>...</td>\n",
              "    </tr>\n",
              "    <tr>\n",
              "      <th>1333</th>\n",
              "      <td>50</td>\n",
              "      <td>male</td>\n",
              "      <td>30.970</td>\n",
              "      <td>3</td>\n",
              "      <td>no</td>\n",
              "      <td>northwest</td>\n",
              "      <td>10600.54830</td>\n",
              "    </tr>\n",
              "    <tr>\n",
              "      <th>1334</th>\n",
              "      <td>18</td>\n",
              "      <td>female</td>\n",
              "      <td>31.920</td>\n",
              "      <td>0</td>\n",
              "      <td>no</td>\n",
              "      <td>northeast</td>\n",
              "      <td>2205.98080</td>\n",
              "    </tr>\n",
              "    <tr>\n",
              "      <th>1335</th>\n",
              "      <td>18</td>\n",
              "      <td>female</td>\n",
              "      <td>36.850</td>\n",
              "      <td>0</td>\n",
              "      <td>no</td>\n",
              "      <td>southeast</td>\n",
              "      <td>1629.83350</td>\n",
              "    </tr>\n",
              "    <tr>\n",
              "      <th>1336</th>\n",
              "      <td>21</td>\n",
              "      <td>female</td>\n",
              "      <td>25.800</td>\n",
              "      <td>0</td>\n",
              "      <td>no</td>\n",
              "      <td>southwest</td>\n",
              "      <td>2007.94500</td>\n",
              "    </tr>\n",
              "    <tr>\n",
              "      <th>1337</th>\n",
              "      <td>61</td>\n",
              "      <td>female</td>\n",
              "      <td>29.070</td>\n",
              "      <td>0</td>\n",
              "      <td>yes</td>\n",
              "      <td>northwest</td>\n",
              "      <td>29141.36030</td>\n",
              "    </tr>\n",
              "  </tbody>\n",
              "</table>\n",
              "<p>1338 rows × 7 columns</p>\n",
              "</div>\n",
              "    <div class=\"colab-df-buttons\">\n",
              "\n",
              "  <div class=\"colab-df-container\">\n",
              "    <button class=\"colab-df-convert\" onclick=\"convertToInteractive('df-99f968f6-45e6-4c24-ad1a-003fed56a0e6')\"\n",
              "            title=\"Convert this dataframe to an interactive table.\"\n",
              "            style=\"display:none;\">\n",
              "\n",
              "  <svg xmlns=\"http://www.w3.org/2000/svg\" height=\"24px\" viewBox=\"0 -960 960 960\">\n",
              "    <path d=\"M120-120v-720h720v720H120Zm60-500h600v-160H180v160Zm220 220h160v-160H400v160Zm0 220h160v-160H400v160ZM180-400h160v-160H180v160Zm440 0h160v-160H620v160ZM180-180h160v-160H180v160Zm440 0h160v-160H620v160Z\"/>\n",
              "  </svg>\n",
              "    </button>\n",
              "\n",
              "  <style>\n",
              "    .colab-df-container {\n",
              "      display:flex;\n",
              "      gap: 12px;\n",
              "    }\n",
              "\n",
              "    .colab-df-convert {\n",
              "      background-color: #E8F0FE;\n",
              "      border: none;\n",
              "      border-radius: 50%;\n",
              "      cursor: pointer;\n",
              "      display: none;\n",
              "      fill: #1967D2;\n",
              "      height: 32px;\n",
              "      padding: 0 0 0 0;\n",
              "      width: 32px;\n",
              "    }\n",
              "\n",
              "    .colab-df-convert:hover {\n",
              "      background-color: #E2EBFA;\n",
              "      box-shadow: 0px 1px 2px rgba(60, 64, 67, 0.3), 0px 1px 3px 1px rgba(60, 64, 67, 0.15);\n",
              "      fill: #174EA6;\n",
              "    }\n",
              "\n",
              "    .colab-df-buttons div {\n",
              "      margin-bottom: 4px;\n",
              "    }\n",
              "\n",
              "    [theme=dark] .colab-df-convert {\n",
              "      background-color: #3B4455;\n",
              "      fill: #D2E3FC;\n",
              "    }\n",
              "\n",
              "    [theme=dark] .colab-df-convert:hover {\n",
              "      background-color: #434B5C;\n",
              "      box-shadow: 0px 1px 3px 1px rgba(0, 0, 0, 0.15);\n",
              "      filter: drop-shadow(0px 1px 2px rgba(0, 0, 0, 0.3));\n",
              "      fill: #FFFFFF;\n",
              "    }\n",
              "  </style>\n",
              "\n",
              "    <script>\n",
              "      const buttonEl =\n",
              "        document.querySelector('#df-99f968f6-45e6-4c24-ad1a-003fed56a0e6 button.colab-df-convert');\n",
              "      buttonEl.style.display =\n",
              "        google.colab.kernel.accessAllowed ? 'block' : 'none';\n",
              "\n",
              "      async function convertToInteractive(key) {\n",
              "        const element = document.querySelector('#df-99f968f6-45e6-4c24-ad1a-003fed56a0e6');\n",
              "        const dataTable =\n",
              "          await google.colab.kernel.invokeFunction('convertToInteractive',\n",
              "                                                    [key], {});\n",
              "        if (!dataTable) return;\n",
              "\n",
              "        const docLinkHtml = 'Like what you see? Visit the ' +\n",
              "          '<a target=\"_blank\" href=https://colab.research.google.com/notebooks/data_table.ipynb>data table notebook</a>'\n",
              "          + ' to learn more about interactive tables.';\n",
              "        element.innerHTML = '';\n",
              "        dataTable['output_type'] = 'display_data';\n",
              "        await google.colab.output.renderOutput(dataTable, element);\n",
              "        const docLink = document.createElement('div');\n",
              "        docLink.innerHTML = docLinkHtml;\n",
              "        element.appendChild(docLink);\n",
              "      }\n",
              "    </script>\n",
              "  </div>\n",
              "\n",
              "\n",
              "<div id=\"df-b3a532bb-53ed-4fcd-a30b-0de125680fcb\">\n",
              "  <button class=\"colab-df-quickchart\" onclick=\"quickchart('df-b3a532bb-53ed-4fcd-a30b-0de125680fcb')\"\n",
              "            title=\"Suggest charts\"\n",
              "            style=\"display:none;\">\n",
              "\n",
              "<svg xmlns=\"http://www.w3.org/2000/svg\" height=\"24px\"viewBox=\"0 0 24 24\"\n",
              "     width=\"24px\">\n",
              "    <g>\n",
              "        <path d=\"M19 3H5c-1.1 0-2 .9-2 2v14c0 1.1.9 2 2 2h14c1.1 0 2-.9 2-2V5c0-1.1-.9-2-2-2zM9 17H7v-7h2v7zm4 0h-2V7h2v10zm4 0h-2v-4h2v4z\"/>\n",
              "    </g>\n",
              "</svg>\n",
              "  </button>\n",
              "\n",
              "<style>\n",
              "  .colab-df-quickchart {\n",
              "      --bg-color: #E8F0FE;\n",
              "      --fill-color: #1967D2;\n",
              "      --hover-bg-color: #E2EBFA;\n",
              "      --hover-fill-color: #174EA6;\n",
              "      --disabled-fill-color: #AAA;\n",
              "      --disabled-bg-color: #DDD;\n",
              "  }\n",
              "\n",
              "  [theme=dark] .colab-df-quickchart {\n",
              "      --bg-color: #3B4455;\n",
              "      --fill-color: #D2E3FC;\n",
              "      --hover-bg-color: #434B5C;\n",
              "      --hover-fill-color: #FFFFFF;\n",
              "      --disabled-bg-color: #3B4455;\n",
              "      --disabled-fill-color: #666;\n",
              "  }\n",
              "\n",
              "  .colab-df-quickchart {\n",
              "    background-color: var(--bg-color);\n",
              "    border: none;\n",
              "    border-radius: 50%;\n",
              "    cursor: pointer;\n",
              "    display: none;\n",
              "    fill: var(--fill-color);\n",
              "    height: 32px;\n",
              "    padding: 0;\n",
              "    width: 32px;\n",
              "  }\n",
              "\n",
              "  .colab-df-quickchart:hover {\n",
              "    background-color: var(--hover-bg-color);\n",
              "    box-shadow: 0 1px 2px rgba(60, 64, 67, 0.3), 0 1px 3px 1px rgba(60, 64, 67, 0.15);\n",
              "    fill: var(--button-hover-fill-color);\n",
              "  }\n",
              "\n",
              "  .colab-df-quickchart-complete:disabled,\n",
              "  .colab-df-quickchart-complete:disabled:hover {\n",
              "    background-color: var(--disabled-bg-color);\n",
              "    fill: var(--disabled-fill-color);\n",
              "    box-shadow: none;\n",
              "  }\n",
              "\n",
              "  .colab-df-spinner {\n",
              "    border: 2px solid var(--fill-color);\n",
              "    border-color: transparent;\n",
              "    border-bottom-color: var(--fill-color);\n",
              "    animation:\n",
              "      spin 1s steps(1) infinite;\n",
              "  }\n",
              "\n",
              "  @keyframes spin {\n",
              "    0% {\n",
              "      border-color: transparent;\n",
              "      border-bottom-color: var(--fill-color);\n",
              "      border-left-color: var(--fill-color);\n",
              "    }\n",
              "    20% {\n",
              "      border-color: transparent;\n",
              "      border-left-color: var(--fill-color);\n",
              "      border-top-color: var(--fill-color);\n",
              "    }\n",
              "    30% {\n",
              "      border-color: transparent;\n",
              "      border-left-color: var(--fill-color);\n",
              "      border-top-color: var(--fill-color);\n",
              "      border-right-color: var(--fill-color);\n",
              "    }\n",
              "    40% {\n",
              "      border-color: transparent;\n",
              "      border-right-color: var(--fill-color);\n",
              "      border-top-color: var(--fill-color);\n",
              "    }\n",
              "    60% {\n",
              "      border-color: transparent;\n",
              "      border-right-color: var(--fill-color);\n",
              "    }\n",
              "    80% {\n",
              "      border-color: transparent;\n",
              "      border-right-color: var(--fill-color);\n",
              "      border-bottom-color: var(--fill-color);\n",
              "    }\n",
              "    90% {\n",
              "      border-color: transparent;\n",
              "      border-bottom-color: var(--fill-color);\n",
              "    }\n",
              "  }\n",
              "</style>\n",
              "\n",
              "  <script>\n",
              "    async function quickchart(key) {\n",
              "      const quickchartButtonEl =\n",
              "        document.querySelector('#' + key + ' button');\n",
              "      quickchartButtonEl.disabled = true;  // To prevent multiple clicks.\n",
              "      quickchartButtonEl.classList.add('colab-df-spinner');\n",
              "      try {\n",
              "        const charts = await google.colab.kernel.invokeFunction(\n",
              "            'suggestCharts', [key], {});\n",
              "      } catch (error) {\n",
              "        console.error('Error during call to suggestCharts:', error);\n",
              "      }\n",
              "      quickchartButtonEl.classList.remove('colab-df-spinner');\n",
              "      quickchartButtonEl.classList.add('colab-df-quickchart-complete');\n",
              "    }\n",
              "    (() => {\n",
              "      let quickchartButtonEl =\n",
              "        document.querySelector('#df-b3a532bb-53ed-4fcd-a30b-0de125680fcb button');\n",
              "      quickchartButtonEl.style.display =\n",
              "        google.colab.kernel.accessAllowed ? 'block' : 'none';\n",
              "    })();\n",
              "  </script>\n",
              "</div>\n",
              "\n",
              "  <div id=\"id_4670eeab-7111-4a15-96a2-08fc77b77b0f\">\n",
              "    <style>\n",
              "      .colab-df-generate {\n",
              "        background-color: #E8F0FE;\n",
              "        border: none;\n",
              "        border-radius: 50%;\n",
              "        cursor: pointer;\n",
              "        display: none;\n",
              "        fill: #1967D2;\n",
              "        height: 32px;\n",
              "        padding: 0 0 0 0;\n",
              "        width: 32px;\n",
              "      }\n",
              "\n",
              "      .colab-df-generate:hover {\n",
              "        background-color: #E2EBFA;\n",
              "        box-shadow: 0px 1px 2px rgba(60, 64, 67, 0.3), 0px 1px 3px 1px rgba(60, 64, 67, 0.15);\n",
              "        fill: #174EA6;\n",
              "      }\n",
              "\n",
              "      [theme=dark] .colab-df-generate {\n",
              "        background-color: #3B4455;\n",
              "        fill: #D2E3FC;\n",
              "      }\n",
              "\n",
              "      [theme=dark] .colab-df-generate:hover {\n",
              "        background-color: #434B5C;\n",
              "        box-shadow: 0px 1px 3px 1px rgba(0, 0, 0, 0.15);\n",
              "        filter: drop-shadow(0px 1px 2px rgba(0, 0, 0, 0.3));\n",
              "        fill: #FFFFFF;\n",
              "      }\n",
              "    </style>\n",
              "    <button class=\"colab-df-generate\" onclick=\"generateWithVariable('insurance')\"\n",
              "            title=\"Generate code using this dataframe.\"\n",
              "            style=\"display:none;\">\n",
              "\n",
              "  <svg xmlns=\"http://www.w3.org/2000/svg\" height=\"24px\"viewBox=\"0 0 24 24\"\n",
              "       width=\"24px\">\n",
              "    <path d=\"M7,19H8.4L18.45,9,17,7.55,7,17.6ZM5,21V16.75L18.45,3.32a2,2,0,0,1,2.83,0l1.4,1.43a1.91,1.91,0,0,1,.58,1.4,1.91,1.91,0,0,1-.58,1.4L9.25,21ZM18.45,9,17,7.55Zm-12,3A5.31,5.31,0,0,0,4.9,8.1,5.31,5.31,0,0,0,1,6.5,5.31,5.31,0,0,0,4.9,4.9,5.31,5.31,0,0,0,6.5,1,5.31,5.31,0,0,0,8.1,4.9,5.31,5.31,0,0,0,12,6.5,5.46,5.46,0,0,0,6.5,12Z\"/>\n",
              "  </svg>\n",
              "    </button>\n",
              "    <script>\n",
              "      (() => {\n",
              "      const buttonEl =\n",
              "        document.querySelector('#id_4670eeab-7111-4a15-96a2-08fc77b77b0f button.colab-df-generate');\n",
              "      buttonEl.style.display =\n",
              "        google.colab.kernel.accessAllowed ? 'block' : 'none';\n",
              "\n",
              "      buttonEl.onclick = () => {\n",
              "        google.colab.notebook.generateWithVariable('insurance');\n",
              "      }\n",
              "      })();\n",
              "    </script>\n",
              "  </div>\n",
              "\n",
              "    </div>\n",
              "  </div>\n"
            ],
            "application/vnd.google.colaboratory.intrinsic+json": {
              "type": "dataframe",
              "variable_name": "insurance",
              "summary": "{\n  \"name\": \"insurance\",\n  \"rows\": 1338,\n  \"fields\": [\n    {\n      \"column\": \"age\",\n      \"properties\": {\n        \"dtype\": \"number\",\n        \"std\": 14,\n        \"min\": 18,\n        \"max\": 64,\n        \"num_unique_values\": 47,\n        \"samples\": [\n          21,\n          45,\n          36\n        ],\n        \"semantic_type\": \"\",\n        \"description\": \"\"\n      }\n    },\n    {\n      \"column\": \"sex\",\n      \"properties\": {\n        \"dtype\": \"category\",\n        \"num_unique_values\": 2,\n        \"samples\": [\n          \"male\",\n          \"female\"\n        ],\n        \"semantic_type\": \"\",\n        \"description\": \"\"\n      }\n    },\n    {\n      \"column\": \"bmi\",\n      \"properties\": {\n        \"dtype\": \"number\",\n        \"std\": 6.098186911679014,\n        \"min\": 15.96,\n        \"max\": 53.13,\n        \"num_unique_values\": 548,\n        \"samples\": [\n          23.18,\n          26.885\n        ],\n        \"semantic_type\": \"\",\n        \"description\": \"\"\n      }\n    },\n    {\n      \"column\": \"children\",\n      \"properties\": {\n        \"dtype\": \"number\",\n        \"std\": 1,\n        \"min\": 0,\n        \"max\": 5,\n        \"num_unique_values\": 6,\n        \"samples\": [\n          0,\n          1\n        ],\n        \"semantic_type\": \"\",\n        \"description\": \"\"\n      }\n    },\n    {\n      \"column\": \"smoker\",\n      \"properties\": {\n        \"dtype\": \"category\",\n        \"num_unique_values\": 2,\n        \"samples\": [\n          \"no\",\n          \"yes\"\n        ],\n        \"semantic_type\": \"\",\n        \"description\": \"\"\n      }\n    },\n    {\n      \"column\": \"region\",\n      \"properties\": {\n        \"dtype\": \"category\",\n        \"num_unique_values\": 4,\n        \"samples\": [\n          \"southeast\",\n          \"northeast\"\n        ],\n        \"semantic_type\": \"\",\n        \"description\": \"\"\n      }\n    },\n    {\n      \"column\": \"charges\",\n      \"properties\": {\n        \"dtype\": \"number\",\n        \"std\": 12110.011236694001,\n        \"min\": 1121.8739,\n        \"max\": 63770.42801,\n        \"num_unique_values\": 1337,\n        \"samples\": [\n          8688.85885,\n          5708.867\n        ],\n        \"semantic_type\": \"\",\n        \"description\": \"\"\n      }\n    }\n  ]\n}"
            }
          },
          "metadata": {},
          "execution_count": 47
        }
      ]
    },
    {
      "cell_type": "code",
      "source": [
        "# get_dummies trasforma i dati non numerici in numerici\n",
        "# con il hot_incoding per trovare la soluzione al nostro problema per trasformare i nostri dati in input\n",
        "insurance_one_hot = pd.get_dummies(insurance)\n",
        "insurance_one_hot = insurance_one_hot.astype(int)\n",
        "insurance_one_hot.head()"
      ],
      "metadata": {
        "colab": {
          "base_uri": "https://localhost:8080/",
          "height": 206
        },
        "id": "D4bp9boPQ5u0",
        "outputId": "a2a0a6d9-b080-4860-b768-0e67a2dcdd95"
      },
      "execution_count": null,
      "outputs": [
        {
          "output_type": "execute_result",
          "data": {
            "text/plain": [
              "   age  bmi  children  charges  sex_female  sex_male  smoker_no  smoker_yes  \\\n",
              "0   19   27         0    16884           1         0          0           1   \n",
              "1   18   33         1     1725           0         1          1           0   \n",
              "2   28   33         3     4449           0         1          1           0   \n",
              "3   33   22         0    21984           0         1          1           0   \n",
              "4   32   28         0     3866           0         1          1           0   \n",
              "\n",
              "   region_northeast  region_northwest  region_southeast  region_southwest  \n",
              "0                 0                 0                 0                 1  \n",
              "1                 0                 0                 1                 0  \n",
              "2                 0                 0                 1                 0  \n",
              "3                 0                 1                 0                 0  \n",
              "4                 0                 1                 0                 0  "
            ],
            "text/html": [
              "\n",
              "  <div id=\"df-2615e970-f048-4edd-930d-89c4c9fc34dc\" class=\"colab-df-container\">\n",
              "    <div>\n",
              "<style scoped>\n",
              "    .dataframe tbody tr th:only-of-type {\n",
              "        vertical-align: middle;\n",
              "    }\n",
              "\n",
              "    .dataframe tbody tr th {\n",
              "        vertical-align: top;\n",
              "    }\n",
              "\n",
              "    .dataframe thead th {\n",
              "        text-align: right;\n",
              "    }\n",
              "</style>\n",
              "<table border=\"1\" class=\"dataframe\">\n",
              "  <thead>\n",
              "    <tr style=\"text-align: right;\">\n",
              "      <th></th>\n",
              "      <th>age</th>\n",
              "      <th>bmi</th>\n",
              "      <th>children</th>\n",
              "      <th>charges</th>\n",
              "      <th>sex_female</th>\n",
              "      <th>sex_male</th>\n",
              "      <th>smoker_no</th>\n",
              "      <th>smoker_yes</th>\n",
              "      <th>region_northeast</th>\n",
              "      <th>region_northwest</th>\n",
              "      <th>region_southeast</th>\n",
              "      <th>region_southwest</th>\n",
              "    </tr>\n",
              "  </thead>\n",
              "  <tbody>\n",
              "    <tr>\n",
              "      <th>0</th>\n",
              "      <td>19</td>\n",
              "      <td>27</td>\n",
              "      <td>0</td>\n",
              "      <td>16884</td>\n",
              "      <td>1</td>\n",
              "      <td>0</td>\n",
              "      <td>0</td>\n",
              "      <td>1</td>\n",
              "      <td>0</td>\n",
              "      <td>0</td>\n",
              "      <td>0</td>\n",
              "      <td>1</td>\n",
              "    </tr>\n",
              "    <tr>\n",
              "      <th>1</th>\n",
              "      <td>18</td>\n",
              "      <td>33</td>\n",
              "      <td>1</td>\n",
              "      <td>1725</td>\n",
              "      <td>0</td>\n",
              "      <td>1</td>\n",
              "      <td>1</td>\n",
              "      <td>0</td>\n",
              "      <td>0</td>\n",
              "      <td>0</td>\n",
              "      <td>1</td>\n",
              "      <td>0</td>\n",
              "    </tr>\n",
              "    <tr>\n",
              "      <th>2</th>\n",
              "      <td>28</td>\n",
              "      <td>33</td>\n",
              "      <td>3</td>\n",
              "      <td>4449</td>\n",
              "      <td>0</td>\n",
              "      <td>1</td>\n",
              "      <td>1</td>\n",
              "      <td>0</td>\n",
              "      <td>0</td>\n",
              "      <td>0</td>\n",
              "      <td>1</td>\n",
              "      <td>0</td>\n",
              "    </tr>\n",
              "    <tr>\n",
              "      <th>3</th>\n",
              "      <td>33</td>\n",
              "      <td>22</td>\n",
              "      <td>0</td>\n",
              "      <td>21984</td>\n",
              "      <td>0</td>\n",
              "      <td>1</td>\n",
              "      <td>1</td>\n",
              "      <td>0</td>\n",
              "      <td>0</td>\n",
              "      <td>1</td>\n",
              "      <td>0</td>\n",
              "      <td>0</td>\n",
              "    </tr>\n",
              "    <tr>\n",
              "      <th>4</th>\n",
              "      <td>32</td>\n",
              "      <td>28</td>\n",
              "      <td>0</td>\n",
              "      <td>3866</td>\n",
              "      <td>0</td>\n",
              "      <td>1</td>\n",
              "      <td>1</td>\n",
              "      <td>0</td>\n",
              "      <td>0</td>\n",
              "      <td>1</td>\n",
              "      <td>0</td>\n",
              "      <td>0</td>\n",
              "    </tr>\n",
              "  </tbody>\n",
              "</table>\n",
              "</div>\n",
              "    <div class=\"colab-df-buttons\">\n",
              "\n",
              "  <div class=\"colab-df-container\">\n",
              "    <button class=\"colab-df-convert\" onclick=\"convertToInteractive('df-2615e970-f048-4edd-930d-89c4c9fc34dc')\"\n",
              "            title=\"Convert this dataframe to an interactive table.\"\n",
              "            style=\"display:none;\">\n",
              "\n",
              "  <svg xmlns=\"http://www.w3.org/2000/svg\" height=\"24px\" viewBox=\"0 -960 960 960\">\n",
              "    <path d=\"M120-120v-720h720v720H120Zm60-500h600v-160H180v160Zm220 220h160v-160H400v160Zm0 220h160v-160H400v160ZM180-400h160v-160H180v160Zm440 0h160v-160H620v160ZM180-180h160v-160H180v160Zm440 0h160v-160H620v160Z\"/>\n",
              "  </svg>\n",
              "    </button>\n",
              "\n",
              "  <style>\n",
              "    .colab-df-container {\n",
              "      display:flex;\n",
              "      gap: 12px;\n",
              "    }\n",
              "\n",
              "    .colab-df-convert {\n",
              "      background-color: #E8F0FE;\n",
              "      border: none;\n",
              "      border-radius: 50%;\n",
              "      cursor: pointer;\n",
              "      display: none;\n",
              "      fill: #1967D2;\n",
              "      height: 32px;\n",
              "      padding: 0 0 0 0;\n",
              "      width: 32px;\n",
              "    }\n",
              "\n",
              "    .colab-df-convert:hover {\n",
              "      background-color: #E2EBFA;\n",
              "      box-shadow: 0px 1px 2px rgba(60, 64, 67, 0.3), 0px 1px 3px 1px rgba(60, 64, 67, 0.15);\n",
              "      fill: #174EA6;\n",
              "    }\n",
              "\n",
              "    .colab-df-buttons div {\n",
              "      margin-bottom: 4px;\n",
              "    }\n",
              "\n",
              "    [theme=dark] .colab-df-convert {\n",
              "      background-color: #3B4455;\n",
              "      fill: #D2E3FC;\n",
              "    }\n",
              "\n",
              "    [theme=dark] .colab-df-convert:hover {\n",
              "      background-color: #434B5C;\n",
              "      box-shadow: 0px 1px 3px 1px rgba(0, 0, 0, 0.15);\n",
              "      filter: drop-shadow(0px 1px 2px rgba(0, 0, 0, 0.3));\n",
              "      fill: #FFFFFF;\n",
              "    }\n",
              "  </style>\n",
              "\n",
              "    <script>\n",
              "      const buttonEl =\n",
              "        document.querySelector('#df-2615e970-f048-4edd-930d-89c4c9fc34dc button.colab-df-convert');\n",
              "      buttonEl.style.display =\n",
              "        google.colab.kernel.accessAllowed ? 'block' : 'none';\n",
              "\n",
              "      async function convertToInteractive(key) {\n",
              "        const element = document.querySelector('#df-2615e970-f048-4edd-930d-89c4c9fc34dc');\n",
              "        const dataTable =\n",
              "          await google.colab.kernel.invokeFunction('convertToInteractive',\n",
              "                                                    [key], {});\n",
              "        if (!dataTable) return;\n",
              "\n",
              "        const docLinkHtml = 'Like what you see? Visit the ' +\n",
              "          '<a target=\"_blank\" href=https://colab.research.google.com/notebooks/data_table.ipynb>data table notebook</a>'\n",
              "          + ' to learn more about interactive tables.';\n",
              "        element.innerHTML = '';\n",
              "        dataTable['output_type'] = 'display_data';\n",
              "        await google.colab.output.renderOutput(dataTable, element);\n",
              "        const docLink = document.createElement('div');\n",
              "        docLink.innerHTML = docLinkHtml;\n",
              "        element.appendChild(docLink);\n",
              "      }\n",
              "    </script>\n",
              "  </div>\n",
              "\n",
              "\n",
              "<div id=\"df-9148996f-bd76-4942-b79d-d0deb862164e\">\n",
              "  <button class=\"colab-df-quickchart\" onclick=\"quickchart('df-9148996f-bd76-4942-b79d-d0deb862164e')\"\n",
              "            title=\"Suggest charts\"\n",
              "            style=\"display:none;\">\n",
              "\n",
              "<svg xmlns=\"http://www.w3.org/2000/svg\" height=\"24px\"viewBox=\"0 0 24 24\"\n",
              "     width=\"24px\">\n",
              "    <g>\n",
              "        <path d=\"M19 3H5c-1.1 0-2 .9-2 2v14c0 1.1.9 2 2 2h14c1.1 0 2-.9 2-2V5c0-1.1-.9-2-2-2zM9 17H7v-7h2v7zm4 0h-2V7h2v10zm4 0h-2v-4h2v4z\"/>\n",
              "    </g>\n",
              "</svg>\n",
              "  </button>\n",
              "\n",
              "<style>\n",
              "  .colab-df-quickchart {\n",
              "      --bg-color: #E8F0FE;\n",
              "      --fill-color: #1967D2;\n",
              "      --hover-bg-color: #E2EBFA;\n",
              "      --hover-fill-color: #174EA6;\n",
              "      --disabled-fill-color: #AAA;\n",
              "      --disabled-bg-color: #DDD;\n",
              "  }\n",
              "\n",
              "  [theme=dark] .colab-df-quickchart {\n",
              "      --bg-color: #3B4455;\n",
              "      --fill-color: #D2E3FC;\n",
              "      --hover-bg-color: #434B5C;\n",
              "      --hover-fill-color: #FFFFFF;\n",
              "      --disabled-bg-color: #3B4455;\n",
              "      --disabled-fill-color: #666;\n",
              "  }\n",
              "\n",
              "  .colab-df-quickchart {\n",
              "    background-color: var(--bg-color);\n",
              "    border: none;\n",
              "    border-radius: 50%;\n",
              "    cursor: pointer;\n",
              "    display: none;\n",
              "    fill: var(--fill-color);\n",
              "    height: 32px;\n",
              "    padding: 0;\n",
              "    width: 32px;\n",
              "  }\n",
              "\n",
              "  .colab-df-quickchart:hover {\n",
              "    background-color: var(--hover-bg-color);\n",
              "    box-shadow: 0 1px 2px rgba(60, 64, 67, 0.3), 0 1px 3px 1px rgba(60, 64, 67, 0.15);\n",
              "    fill: var(--button-hover-fill-color);\n",
              "  }\n",
              "\n",
              "  .colab-df-quickchart-complete:disabled,\n",
              "  .colab-df-quickchart-complete:disabled:hover {\n",
              "    background-color: var(--disabled-bg-color);\n",
              "    fill: var(--disabled-fill-color);\n",
              "    box-shadow: none;\n",
              "  }\n",
              "\n",
              "  .colab-df-spinner {\n",
              "    border: 2px solid var(--fill-color);\n",
              "    border-color: transparent;\n",
              "    border-bottom-color: var(--fill-color);\n",
              "    animation:\n",
              "      spin 1s steps(1) infinite;\n",
              "  }\n",
              "\n",
              "  @keyframes spin {\n",
              "    0% {\n",
              "      border-color: transparent;\n",
              "      border-bottom-color: var(--fill-color);\n",
              "      border-left-color: var(--fill-color);\n",
              "    }\n",
              "    20% {\n",
              "      border-color: transparent;\n",
              "      border-left-color: var(--fill-color);\n",
              "      border-top-color: var(--fill-color);\n",
              "    }\n",
              "    30% {\n",
              "      border-color: transparent;\n",
              "      border-left-color: var(--fill-color);\n",
              "      border-top-color: var(--fill-color);\n",
              "      border-right-color: var(--fill-color);\n",
              "    }\n",
              "    40% {\n",
              "      border-color: transparent;\n",
              "      border-right-color: var(--fill-color);\n",
              "      border-top-color: var(--fill-color);\n",
              "    }\n",
              "    60% {\n",
              "      border-color: transparent;\n",
              "      border-right-color: var(--fill-color);\n",
              "    }\n",
              "    80% {\n",
              "      border-color: transparent;\n",
              "      border-right-color: var(--fill-color);\n",
              "      border-bottom-color: var(--fill-color);\n",
              "    }\n",
              "    90% {\n",
              "      border-color: transparent;\n",
              "      border-bottom-color: var(--fill-color);\n",
              "    }\n",
              "  }\n",
              "</style>\n",
              "\n",
              "  <script>\n",
              "    async function quickchart(key) {\n",
              "      const quickchartButtonEl =\n",
              "        document.querySelector('#' + key + ' button');\n",
              "      quickchartButtonEl.disabled = true;  // To prevent multiple clicks.\n",
              "      quickchartButtonEl.classList.add('colab-df-spinner');\n",
              "      try {\n",
              "        const charts = await google.colab.kernel.invokeFunction(\n",
              "            'suggestCharts', [key], {});\n",
              "      } catch (error) {\n",
              "        console.error('Error during call to suggestCharts:', error);\n",
              "      }\n",
              "      quickchartButtonEl.classList.remove('colab-df-spinner');\n",
              "      quickchartButtonEl.classList.add('colab-df-quickchart-complete');\n",
              "    }\n",
              "    (() => {\n",
              "      let quickchartButtonEl =\n",
              "        document.querySelector('#df-9148996f-bd76-4942-b79d-d0deb862164e button');\n",
              "      quickchartButtonEl.style.display =\n",
              "        google.colab.kernel.accessAllowed ? 'block' : 'none';\n",
              "    })();\n",
              "  </script>\n",
              "</div>\n",
              "\n",
              "    </div>\n",
              "  </div>\n"
            ],
            "application/vnd.google.colaboratory.intrinsic+json": {
              "type": "dataframe",
              "variable_name": "insurance_one_hot",
              "summary": "{\n  \"name\": \"insurance_one_hot\",\n  \"rows\": 1338,\n  \"fields\": [\n    {\n      \"column\": \"age\",\n      \"properties\": {\n        \"dtype\": \"number\",\n        \"std\": 14,\n        \"min\": 18,\n        \"max\": 64,\n        \"num_unique_values\": 47,\n        \"samples\": [\n          21,\n          45,\n          36\n        ],\n        \"semantic_type\": \"\",\n        \"description\": \"\"\n      }\n    },\n    {\n      \"column\": \"bmi\",\n      \"properties\": {\n        \"dtype\": \"number\",\n        \"std\": 6,\n        \"min\": 15,\n        \"max\": 53,\n        \"num_unique_values\": 38,\n        \"samples\": [\n          46,\n          52,\n          25\n        ],\n        \"semantic_type\": \"\",\n        \"description\": \"\"\n      }\n    },\n    {\n      \"column\": \"children\",\n      \"properties\": {\n        \"dtype\": \"number\",\n        \"std\": 1,\n        \"min\": 0,\n        \"max\": 5,\n        \"num_unique_values\": 6,\n        \"samples\": [\n          0,\n          1,\n          4\n        ],\n        \"semantic_type\": \"\",\n        \"description\": \"\"\n      }\n    },\n    {\n      \"column\": \"charges\",\n      \"properties\": {\n        \"dtype\": \"number\",\n        \"std\": 12110,\n        \"min\": 1121,\n        \"max\": 63770,\n        \"num_unique_values\": 1284,\n        \"samples\": [\n          11931,\n          11658,\n          33475\n        ],\n        \"semantic_type\": \"\",\n        \"description\": \"\"\n      }\n    },\n    {\n      \"column\": \"sex_female\",\n      \"properties\": {\n        \"dtype\": \"number\",\n        \"std\": 0,\n        \"min\": 0,\n        \"max\": 1,\n        \"num_unique_values\": 2,\n        \"samples\": [\n          0,\n          1\n        ],\n        \"semantic_type\": \"\",\n        \"description\": \"\"\n      }\n    },\n    {\n      \"column\": \"sex_male\",\n      \"properties\": {\n        \"dtype\": \"number\",\n        \"std\": 0,\n        \"min\": 0,\n        \"max\": 1,\n        \"num_unique_values\": 2,\n        \"samples\": [\n          1,\n          0\n        ],\n        \"semantic_type\": \"\",\n        \"description\": \"\"\n      }\n    },\n    {\n      \"column\": \"smoker_no\",\n      \"properties\": {\n        \"dtype\": \"number\",\n        \"std\": 0,\n        \"min\": 0,\n        \"max\": 1,\n        \"num_unique_values\": 2,\n        \"samples\": [\n          1,\n          0\n        ],\n        \"semantic_type\": \"\",\n        \"description\": \"\"\n      }\n    },\n    {\n      \"column\": \"smoker_yes\",\n      \"properties\": {\n        \"dtype\": \"number\",\n        \"std\": 0,\n        \"min\": 0,\n        \"max\": 1,\n        \"num_unique_values\": 2,\n        \"samples\": [\n          0,\n          1\n        ],\n        \"semantic_type\": \"\",\n        \"description\": \"\"\n      }\n    },\n    {\n      \"column\": \"region_northeast\",\n      \"properties\": {\n        \"dtype\": \"number\",\n        \"std\": 0,\n        \"min\": 0,\n        \"max\": 1,\n        \"num_unique_values\": 2,\n        \"samples\": [\n          1,\n          0\n        ],\n        \"semantic_type\": \"\",\n        \"description\": \"\"\n      }\n    },\n    {\n      \"column\": \"region_northwest\",\n      \"properties\": {\n        \"dtype\": \"number\",\n        \"std\": 0,\n        \"min\": 0,\n        \"max\": 1,\n        \"num_unique_values\": 2,\n        \"samples\": [\n          1,\n          0\n        ],\n        \"semantic_type\": \"\",\n        \"description\": \"\"\n      }\n    },\n    {\n      \"column\": \"region_southeast\",\n      \"properties\": {\n        \"dtype\": \"number\",\n        \"std\": 0,\n        \"min\": 0,\n        \"max\": 1,\n        \"num_unique_values\": 2,\n        \"samples\": [\n          1,\n          0\n        ],\n        \"semantic_type\": \"\",\n        \"description\": \"\"\n      }\n    },\n    {\n      \"column\": \"region_southwest\",\n      \"properties\": {\n        \"dtype\": \"number\",\n        \"std\": 0,\n        \"min\": 0,\n        \"max\": 1,\n        \"num_unique_values\": 2,\n        \"samples\": [\n          0,\n          1\n        ],\n        \"semantic_type\": \"\",\n        \"description\": \"\"\n      }\n    }\n  ]\n}"
            }
          },
          "metadata": {},
          "execution_count": 48
        }
      ]
    },
    {
      "cell_type": "markdown",
      "source": [
        "# creating x and y values\n",
        "# creating a training and test set\n",
        "# creating a neural network\n"
      ],
      "metadata": {
        "id": "PqQ6x04vxObS"
      }
    },
    {
      "cell_type": "code",
      "source": [
        "# creting x and y\n",
        "X = insurance_one_hot.drop(\"charges\", axis=1)\n",
        "Y = insurance_one_hot[\"charges\"]\n",
        "\n",
        "X.head()"
      ],
      "metadata": {
        "colab": {
          "base_uri": "https://localhost:8080/",
          "height": 206
        },
        "id": "EqC952Bdxt-u",
        "outputId": "7bf6e113-d087-43fe-89ce-45e98858d346"
      },
      "execution_count": null,
      "outputs": [
        {
          "output_type": "execute_result",
          "data": {
            "text/plain": [
              "   age  bmi  children  sex_female  sex_male  smoker_no  smoker_yes  \\\n",
              "0   19   27         0           1         0          0           1   \n",
              "1   18   33         1           0         1          1           0   \n",
              "2   28   33         3           0         1          1           0   \n",
              "3   33   22         0           0         1          1           0   \n",
              "4   32   28         0           0         1          1           0   \n",
              "\n",
              "   region_northeast  region_northwest  region_southeast  region_southwest  \n",
              "0                 0                 0                 0                 1  \n",
              "1                 0                 0                 1                 0  \n",
              "2                 0                 0                 1                 0  \n",
              "3                 0                 1                 0                 0  \n",
              "4                 0                 1                 0                 0  "
            ],
            "text/html": [
              "\n",
              "  <div id=\"df-d1e7ab08-9d4f-40df-9cb5-dbdb868e22fc\" class=\"colab-df-container\">\n",
              "    <div>\n",
              "<style scoped>\n",
              "    .dataframe tbody tr th:only-of-type {\n",
              "        vertical-align: middle;\n",
              "    }\n",
              "\n",
              "    .dataframe tbody tr th {\n",
              "        vertical-align: top;\n",
              "    }\n",
              "\n",
              "    .dataframe thead th {\n",
              "        text-align: right;\n",
              "    }\n",
              "</style>\n",
              "<table border=\"1\" class=\"dataframe\">\n",
              "  <thead>\n",
              "    <tr style=\"text-align: right;\">\n",
              "      <th></th>\n",
              "      <th>age</th>\n",
              "      <th>bmi</th>\n",
              "      <th>children</th>\n",
              "      <th>sex_female</th>\n",
              "      <th>sex_male</th>\n",
              "      <th>smoker_no</th>\n",
              "      <th>smoker_yes</th>\n",
              "      <th>region_northeast</th>\n",
              "      <th>region_northwest</th>\n",
              "      <th>region_southeast</th>\n",
              "      <th>region_southwest</th>\n",
              "    </tr>\n",
              "  </thead>\n",
              "  <tbody>\n",
              "    <tr>\n",
              "      <th>0</th>\n",
              "      <td>19</td>\n",
              "      <td>27</td>\n",
              "      <td>0</td>\n",
              "      <td>1</td>\n",
              "      <td>0</td>\n",
              "      <td>0</td>\n",
              "      <td>1</td>\n",
              "      <td>0</td>\n",
              "      <td>0</td>\n",
              "      <td>0</td>\n",
              "      <td>1</td>\n",
              "    </tr>\n",
              "    <tr>\n",
              "      <th>1</th>\n",
              "      <td>18</td>\n",
              "      <td>33</td>\n",
              "      <td>1</td>\n",
              "      <td>0</td>\n",
              "      <td>1</td>\n",
              "      <td>1</td>\n",
              "      <td>0</td>\n",
              "      <td>0</td>\n",
              "      <td>0</td>\n",
              "      <td>1</td>\n",
              "      <td>0</td>\n",
              "    </tr>\n",
              "    <tr>\n",
              "      <th>2</th>\n",
              "      <td>28</td>\n",
              "      <td>33</td>\n",
              "      <td>3</td>\n",
              "      <td>0</td>\n",
              "      <td>1</td>\n",
              "      <td>1</td>\n",
              "      <td>0</td>\n",
              "      <td>0</td>\n",
              "      <td>0</td>\n",
              "      <td>1</td>\n",
              "      <td>0</td>\n",
              "    </tr>\n",
              "    <tr>\n",
              "      <th>3</th>\n",
              "      <td>33</td>\n",
              "      <td>22</td>\n",
              "      <td>0</td>\n",
              "      <td>0</td>\n",
              "      <td>1</td>\n",
              "      <td>1</td>\n",
              "      <td>0</td>\n",
              "      <td>0</td>\n",
              "      <td>1</td>\n",
              "      <td>0</td>\n",
              "      <td>0</td>\n",
              "    </tr>\n",
              "    <tr>\n",
              "      <th>4</th>\n",
              "      <td>32</td>\n",
              "      <td>28</td>\n",
              "      <td>0</td>\n",
              "      <td>0</td>\n",
              "      <td>1</td>\n",
              "      <td>1</td>\n",
              "      <td>0</td>\n",
              "      <td>0</td>\n",
              "      <td>1</td>\n",
              "      <td>0</td>\n",
              "      <td>0</td>\n",
              "    </tr>\n",
              "  </tbody>\n",
              "</table>\n",
              "</div>\n",
              "    <div class=\"colab-df-buttons\">\n",
              "\n",
              "  <div class=\"colab-df-container\">\n",
              "    <button class=\"colab-df-convert\" onclick=\"convertToInteractive('df-d1e7ab08-9d4f-40df-9cb5-dbdb868e22fc')\"\n",
              "            title=\"Convert this dataframe to an interactive table.\"\n",
              "            style=\"display:none;\">\n",
              "\n",
              "  <svg xmlns=\"http://www.w3.org/2000/svg\" height=\"24px\" viewBox=\"0 -960 960 960\">\n",
              "    <path d=\"M120-120v-720h720v720H120Zm60-500h600v-160H180v160Zm220 220h160v-160H400v160Zm0 220h160v-160H400v160ZM180-400h160v-160H180v160Zm440 0h160v-160H620v160ZM180-180h160v-160H180v160Zm440 0h160v-160H620v160Z\"/>\n",
              "  </svg>\n",
              "    </button>\n",
              "\n",
              "  <style>\n",
              "    .colab-df-container {\n",
              "      display:flex;\n",
              "      gap: 12px;\n",
              "    }\n",
              "\n",
              "    .colab-df-convert {\n",
              "      background-color: #E8F0FE;\n",
              "      border: none;\n",
              "      border-radius: 50%;\n",
              "      cursor: pointer;\n",
              "      display: none;\n",
              "      fill: #1967D2;\n",
              "      height: 32px;\n",
              "      padding: 0 0 0 0;\n",
              "      width: 32px;\n",
              "    }\n",
              "\n",
              "    .colab-df-convert:hover {\n",
              "      background-color: #E2EBFA;\n",
              "      box-shadow: 0px 1px 2px rgba(60, 64, 67, 0.3), 0px 1px 3px 1px rgba(60, 64, 67, 0.15);\n",
              "      fill: #174EA6;\n",
              "    }\n",
              "\n",
              "    .colab-df-buttons div {\n",
              "      margin-bottom: 4px;\n",
              "    }\n",
              "\n",
              "    [theme=dark] .colab-df-convert {\n",
              "      background-color: #3B4455;\n",
              "      fill: #D2E3FC;\n",
              "    }\n",
              "\n",
              "    [theme=dark] .colab-df-convert:hover {\n",
              "      background-color: #434B5C;\n",
              "      box-shadow: 0px 1px 3px 1px rgba(0, 0, 0, 0.15);\n",
              "      filter: drop-shadow(0px 1px 2px rgba(0, 0, 0, 0.3));\n",
              "      fill: #FFFFFF;\n",
              "    }\n",
              "  </style>\n",
              "\n",
              "    <script>\n",
              "      const buttonEl =\n",
              "        document.querySelector('#df-d1e7ab08-9d4f-40df-9cb5-dbdb868e22fc button.colab-df-convert');\n",
              "      buttonEl.style.display =\n",
              "        google.colab.kernel.accessAllowed ? 'block' : 'none';\n",
              "\n",
              "      async function convertToInteractive(key) {\n",
              "        const element = document.querySelector('#df-d1e7ab08-9d4f-40df-9cb5-dbdb868e22fc');\n",
              "        const dataTable =\n",
              "          await google.colab.kernel.invokeFunction('convertToInteractive',\n",
              "                                                    [key], {});\n",
              "        if (!dataTable) return;\n",
              "\n",
              "        const docLinkHtml = 'Like what you see? Visit the ' +\n",
              "          '<a target=\"_blank\" href=https://colab.research.google.com/notebooks/data_table.ipynb>data table notebook</a>'\n",
              "          + ' to learn more about interactive tables.';\n",
              "        element.innerHTML = '';\n",
              "        dataTable['output_type'] = 'display_data';\n",
              "        await google.colab.output.renderOutput(dataTable, element);\n",
              "        const docLink = document.createElement('div');\n",
              "        docLink.innerHTML = docLinkHtml;\n",
              "        element.appendChild(docLink);\n",
              "      }\n",
              "    </script>\n",
              "  </div>\n",
              "\n",
              "\n",
              "<div id=\"df-6e8f5262-2685-4d1b-a39a-0dab435ce4b8\">\n",
              "  <button class=\"colab-df-quickchart\" onclick=\"quickchart('df-6e8f5262-2685-4d1b-a39a-0dab435ce4b8')\"\n",
              "            title=\"Suggest charts\"\n",
              "            style=\"display:none;\">\n",
              "\n",
              "<svg xmlns=\"http://www.w3.org/2000/svg\" height=\"24px\"viewBox=\"0 0 24 24\"\n",
              "     width=\"24px\">\n",
              "    <g>\n",
              "        <path d=\"M19 3H5c-1.1 0-2 .9-2 2v14c0 1.1.9 2 2 2h14c1.1 0 2-.9 2-2V5c0-1.1-.9-2-2-2zM9 17H7v-7h2v7zm4 0h-2V7h2v10zm4 0h-2v-4h2v4z\"/>\n",
              "    </g>\n",
              "</svg>\n",
              "  </button>\n",
              "\n",
              "<style>\n",
              "  .colab-df-quickchart {\n",
              "      --bg-color: #E8F0FE;\n",
              "      --fill-color: #1967D2;\n",
              "      --hover-bg-color: #E2EBFA;\n",
              "      --hover-fill-color: #174EA6;\n",
              "      --disabled-fill-color: #AAA;\n",
              "      --disabled-bg-color: #DDD;\n",
              "  }\n",
              "\n",
              "  [theme=dark] .colab-df-quickchart {\n",
              "      --bg-color: #3B4455;\n",
              "      --fill-color: #D2E3FC;\n",
              "      --hover-bg-color: #434B5C;\n",
              "      --hover-fill-color: #FFFFFF;\n",
              "      --disabled-bg-color: #3B4455;\n",
              "      --disabled-fill-color: #666;\n",
              "  }\n",
              "\n",
              "  .colab-df-quickchart {\n",
              "    background-color: var(--bg-color);\n",
              "    border: none;\n",
              "    border-radius: 50%;\n",
              "    cursor: pointer;\n",
              "    display: none;\n",
              "    fill: var(--fill-color);\n",
              "    height: 32px;\n",
              "    padding: 0;\n",
              "    width: 32px;\n",
              "  }\n",
              "\n",
              "  .colab-df-quickchart:hover {\n",
              "    background-color: var(--hover-bg-color);\n",
              "    box-shadow: 0 1px 2px rgba(60, 64, 67, 0.3), 0 1px 3px 1px rgba(60, 64, 67, 0.15);\n",
              "    fill: var(--button-hover-fill-color);\n",
              "  }\n",
              "\n",
              "  .colab-df-quickchart-complete:disabled,\n",
              "  .colab-df-quickchart-complete:disabled:hover {\n",
              "    background-color: var(--disabled-bg-color);\n",
              "    fill: var(--disabled-fill-color);\n",
              "    box-shadow: none;\n",
              "  }\n",
              "\n",
              "  .colab-df-spinner {\n",
              "    border: 2px solid var(--fill-color);\n",
              "    border-color: transparent;\n",
              "    border-bottom-color: var(--fill-color);\n",
              "    animation:\n",
              "      spin 1s steps(1) infinite;\n",
              "  }\n",
              "\n",
              "  @keyframes spin {\n",
              "    0% {\n",
              "      border-color: transparent;\n",
              "      border-bottom-color: var(--fill-color);\n",
              "      border-left-color: var(--fill-color);\n",
              "    }\n",
              "    20% {\n",
              "      border-color: transparent;\n",
              "      border-left-color: var(--fill-color);\n",
              "      border-top-color: var(--fill-color);\n",
              "    }\n",
              "    30% {\n",
              "      border-color: transparent;\n",
              "      border-left-color: var(--fill-color);\n",
              "      border-top-color: var(--fill-color);\n",
              "      border-right-color: var(--fill-color);\n",
              "    }\n",
              "    40% {\n",
              "      border-color: transparent;\n",
              "      border-right-color: var(--fill-color);\n",
              "      border-top-color: var(--fill-color);\n",
              "    }\n",
              "    60% {\n",
              "      border-color: transparent;\n",
              "      border-right-color: var(--fill-color);\n",
              "    }\n",
              "    80% {\n",
              "      border-color: transparent;\n",
              "      border-right-color: var(--fill-color);\n",
              "      border-bottom-color: var(--fill-color);\n",
              "    }\n",
              "    90% {\n",
              "      border-color: transparent;\n",
              "      border-bottom-color: var(--fill-color);\n",
              "    }\n",
              "  }\n",
              "</style>\n",
              "\n",
              "  <script>\n",
              "    async function quickchart(key) {\n",
              "      const quickchartButtonEl =\n",
              "        document.querySelector('#' + key + ' button');\n",
              "      quickchartButtonEl.disabled = true;  // To prevent multiple clicks.\n",
              "      quickchartButtonEl.classList.add('colab-df-spinner');\n",
              "      try {\n",
              "        const charts = await google.colab.kernel.invokeFunction(\n",
              "            'suggestCharts', [key], {});\n",
              "      } catch (error) {\n",
              "        console.error('Error during call to suggestCharts:', error);\n",
              "      }\n",
              "      quickchartButtonEl.classList.remove('colab-df-spinner');\n",
              "      quickchartButtonEl.classList.add('colab-df-quickchart-complete');\n",
              "    }\n",
              "    (() => {\n",
              "      let quickchartButtonEl =\n",
              "        document.querySelector('#df-6e8f5262-2685-4d1b-a39a-0dab435ce4b8 button');\n",
              "      quickchartButtonEl.style.display =\n",
              "        google.colab.kernel.accessAllowed ? 'block' : 'none';\n",
              "    })();\n",
              "  </script>\n",
              "</div>\n",
              "\n",
              "    </div>\n",
              "  </div>\n"
            ],
            "application/vnd.google.colaboratory.intrinsic+json": {
              "type": "dataframe",
              "variable_name": "X",
              "summary": "{\n  \"name\": \"X\",\n  \"rows\": 1338,\n  \"fields\": [\n    {\n      \"column\": \"age\",\n      \"properties\": {\n        \"dtype\": \"number\",\n        \"std\": 14,\n        \"min\": 18,\n        \"max\": 64,\n        \"num_unique_values\": 47,\n        \"samples\": [\n          21,\n          45,\n          36\n        ],\n        \"semantic_type\": \"\",\n        \"description\": \"\"\n      }\n    },\n    {\n      \"column\": \"bmi\",\n      \"properties\": {\n        \"dtype\": \"number\",\n        \"std\": 6,\n        \"min\": 15,\n        \"max\": 53,\n        \"num_unique_values\": 38,\n        \"samples\": [\n          46,\n          52,\n          25\n        ],\n        \"semantic_type\": \"\",\n        \"description\": \"\"\n      }\n    },\n    {\n      \"column\": \"children\",\n      \"properties\": {\n        \"dtype\": \"number\",\n        \"std\": 1,\n        \"min\": 0,\n        \"max\": 5,\n        \"num_unique_values\": 6,\n        \"samples\": [\n          0,\n          1,\n          4\n        ],\n        \"semantic_type\": \"\",\n        \"description\": \"\"\n      }\n    },\n    {\n      \"column\": \"sex_female\",\n      \"properties\": {\n        \"dtype\": \"number\",\n        \"std\": 0,\n        \"min\": 0,\n        \"max\": 1,\n        \"num_unique_values\": 2,\n        \"samples\": [\n          0,\n          1\n        ],\n        \"semantic_type\": \"\",\n        \"description\": \"\"\n      }\n    },\n    {\n      \"column\": \"sex_male\",\n      \"properties\": {\n        \"dtype\": \"number\",\n        \"std\": 0,\n        \"min\": 0,\n        \"max\": 1,\n        \"num_unique_values\": 2,\n        \"samples\": [\n          1,\n          0\n        ],\n        \"semantic_type\": \"\",\n        \"description\": \"\"\n      }\n    },\n    {\n      \"column\": \"smoker_no\",\n      \"properties\": {\n        \"dtype\": \"number\",\n        \"std\": 0,\n        \"min\": 0,\n        \"max\": 1,\n        \"num_unique_values\": 2,\n        \"samples\": [\n          1,\n          0\n        ],\n        \"semantic_type\": \"\",\n        \"description\": \"\"\n      }\n    },\n    {\n      \"column\": \"smoker_yes\",\n      \"properties\": {\n        \"dtype\": \"number\",\n        \"std\": 0,\n        \"min\": 0,\n        \"max\": 1,\n        \"num_unique_values\": 2,\n        \"samples\": [\n          0,\n          1\n        ],\n        \"semantic_type\": \"\",\n        \"description\": \"\"\n      }\n    },\n    {\n      \"column\": \"region_northeast\",\n      \"properties\": {\n        \"dtype\": \"number\",\n        \"std\": 0,\n        \"min\": 0,\n        \"max\": 1,\n        \"num_unique_values\": 2,\n        \"samples\": [\n          1,\n          0\n        ],\n        \"semantic_type\": \"\",\n        \"description\": \"\"\n      }\n    },\n    {\n      \"column\": \"region_northwest\",\n      \"properties\": {\n        \"dtype\": \"number\",\n        \"std\": 0,\n        \"min\": 0,\n        \"max\": 1,\n        \"num_unique_values\": 2,\n        \"samples\": [\n          1,\n          0\n        ],\n        \"semantic_type\": \"\",\n        \"description\": \"\"\n      }\n    },\n    {\n      \"column\": \"region_southeast\",\n      \"properties\": {\n        \"dtype\": \"number\",\n        \"std\": 0,\n        \"min\": 0,\n        \"max\": 1,\n        \"num_unique_values\": 2,\n        \"samples\": [\n          1,\n          0\n        ],\n        \"semantic_type\": \"\",\n        \"description\": \"\"\n      }\n    },\n    {\n      \"column\": \"region_southwest\",\n      \"properties\": {\n        \"dtype\": \"number\",\n        \"std\": 0,\n        \"min\": 0,\n        \"max\": 1,\n        \"num_unique_values\": 2,\n        \"samples\": [\n          0,\n          1\n        ],\n        \"semantic_type\": \"\",\n        \"description\": \"\"\n      }\n    }\n  ]\n}"
            }
          },
          "metadata": {},
          "execution_count": 49
        }
      ]
    },
    {
      "cell_type": "code",
      "source": [
        "print(Y.head())"
      ],
      "metadata": {
        "colab": {
          "base_uri": "https://localhost:8080/"
        },
        "id": "JnMM7eSgyqRx",
        "outputId": "15e15101-1138-47ca-9f32-6a1698ed9974"
      },
      "execution_count": null,
      "outputs": [
        {
          "output_type": "stream",
          "name": "stdout",
          "text": [
            "0    16884\n",
            "1     1725\n",
            "2     4449\n",
            "3    21984\n",
            "4     3866\n",
            "Name: charges, dtype: int64\n"
          ]
        }
      ]
    },
    {
      "cell_type": "code",
      "source": [
        "#creating a training and test set\n",
        "from sklearn.model_selection import train_test_split\n",
        "X_train, X_test, Y_train, Y_test = train_test_split(X, Y, test_size=0.2, random_state=42)# randim state=42 importante per non avere i  dati sempre diversi\n",
        "#te_size per impostare il test sul 20% dei dati presenti nel dataset\n",
        "len(X), len(X_train), len(X_test)\n"
      ],
      "metadata": {
        "colab": {
          "base_uri": "https://localhost:8080/"
        },
        "id": "1stU5d78zCRr",
        "outputId": "f6e9b3db-8593-4323-e7bc-7a20faac53b1"
      },
      "execution_count": null,
      "outputs": [
        {
          "output_type": "execute_result",
          "data": {
            "text/plain": [
              "(1338, 1070, 268)"
            ]
          },
          "metadata": {},
          "execution_count": 51
        }
      ]
    },
    {
      "cell_type": "code",
      "source": [
        "# creating a NN  similar of model_2\n",
        "import matplotlib.pyplot as plt\n",
        "\n",
        "tf.random.set_seed(42)\n",
        "\n",
        "insurance_model =tf.keras.Sequential([\n",
        "    tf.keras.layers.Dense(100, activation=\"relu\"),\n",
        "    tf.keras.layers.Dense(100, activation=\"relu\"),\n",
        "    tf.keras.layers.Dense(10),\n",
        "    tf.keras.layers.Dense(1, name=\"output_layer\")\n",
        "])\n",
        "insurance_model.compile(loss = tf.keras.losses.mae,\n",
        "                        optimizer = tf.keras.optimizers.Adam(learning_rate=0.001),\n",
        "                        metrics=[\"mae\"])\n",
        "\n",
        "history = insurance_model.fit(X_train, Y_train, epochs=200, verbose=0)\n",
        "\n",
        "# plot the history  e vederne un grafico per il risultato\n",
        "pd.DataFrame(history.history).plot()\n",
        "plt.ylabel(\"loss\")\n",
        "plt.xlabel(\"epochs\")\n"
      ],
      "metadata": {
        "colab": {
          "base_uri": "https://localhost:8080/",
          "height": 467
        },
        "id": "oX3MhhnI0Xdv",
        "outputId": "210625de-6f92-455b-a665-c0f7a9707244"
      },
      "execution_count": null,
      "outputs": [
        {
          "output_type": "execute_result",
          "data": {
            "text/plain": [
              "Text(0.5, 0, 'epochs')"
            ]
          },
          "metadata": {},
          "execution_count": 52
        },
        {
          "output_type": "display_data",
          "data": {
            "text/plain": [
              "<Figure size 640x480 with 1 Axes>"
            ],
            "image/png": "[encoded data removed]"
          },
          "metadata": {}
        }
      ]
    },
    {
      "cell_type": "code",
      "source": [
        "#check the result of the model\n",
        "insurance_model.evaluate(X_test, Y_test)"
      ],
      "metadata": {
        "colab": {
          "base_uri": "https://localhost:8080/"
        },
        "id": "_pPIy3IA3kgY",
        "outputId": "fce05c4a-dfdf-4a8c-b0c2-a771fb3eeb42"
      },
      "execution_count": null,
      "outputs": [
        {
          "output_type": "stream",
          "name": "stdout",
          "text": [
            "9/9 [==============================] - 0s 2ms/step - loss: 2098.0911 - mae: 2098.0911\n"
          ]
        },
        {
          "output_type": "execute_result",
          "data": {
            "text/plain": [
              "[2098.091064453125, 2098.091064453125]"
            ]
          },
          "metadata": {},
          "execution_count": 53
        }
      ]
    },
    {
      "cell_type": "code",
      "source": [
        "# per capire la media di erroe\n",
        "Y_train.median(), Y_train.mean()"
      ],
      "metadata": {
        "colab": {
          "base_uri": "https://localhost:8080/"
        },
        "id": "lEe0ieFx4G5e",
        "outputId": "422d9a84-25bd-4deb-d848-01456ae834be"
      },
      "execution_count": null,
      "outputs": [
        {
          "output_type": "execute_result",
          "data": {
            "text/plain": [
              "(9574.5, 13345.596261682243)"
            ]
          },
          "metadata": {},
          "execution_count": 54
        }
      ]
    },
    {
      "cell_type": "markdown",
      "source": [
        " in tensorflow esiste una funzione per fermare gli epochs una volta che il modello ha finito di migliorarsi\n",
        " e si chiama EarlyStoppingCallback\n",
        "  come puoi notare nel grafico al di sopra superate le 100 epochs il modello\n",
        "  comincia a rallentare e non riesce a migliorare piu di tanto e questo puo essere un problema\n",
        "  perche perderemmo tempo e il programma sarebbe piu lento senza avere invece un migliore risultato soddisfacente"
      ],
      "metadata": {
        "id": "LaoDqSxI45xt"
      }
    },
    {
      "cell_type": "markdown",
      "source": [
        "##Adesso passiamo al normalization e stadardizzazione nel processing data\n",
        "hai due maniere di normalizzazione\n",
        "\n",
        "- MinMaxScaler che converte tutti i valori tra 0 e 1 preservando la distribuzione originale\n",
        "\n",
        "- StandardScaler rimuove la media e divide ogni valore con le deviazioni stardard\n",
        " se non sai quale usare provale entrambi"
      ],
      "metadata": {
        "id": "OKEbs9pC9yP-"
      }
    },
    {
      "cell_type": "code",
      "source": [
        "X[\"age\"].hist()"
      ],
      "metadata": {
        "colab": {
          "base_uri": "https://localhost:8080/",
          "height": 448
        },
        "id": "YGD7JSW3UBU8",
        "outputId": "01f3303e-7fb5-4153-9e8b-4ba2074f1276"
      },
      "execution_count": null,
      "outputs": [
        {
          "output_type": "execute_result",
          "data": {
            "text/plain": [
              "<Axes: >"
            ]
          },
          "metadata": {},
          "execution_count": 55
        },
        {
          "output_type": "display_data",
          "data": {
            "text/plain": [
              "<Figure size 640x480 with 1 Axes>"
            ],
            "image/png": "[encoded data removed]"
          },
          "metadata": {}
        }
      ]
    },
    {
      "cell_type": "code",
      "source": [
        "X['bmi'].plot.hist()"
      ],
      "metadata": {
        "colab": {
          "base_uri": "https://localhost:8080/",
          "height": 448
        },
        "id": "MQaNwP-XUqwt",
        "outputId": "c088c8ef-e0b8-47d5-fc1e-1a8ef42cb4d7"
      },
      "execution_count": null,
      "outputs": [
        {
          "output_type": "execute_result",
          "data": {
            "text/plain": [
              "<Axes: ylabel='Frequency'>"
            ]
          },
          "metadata": {},
          "execution_count": 56
        },
        {
          "output_type": "display_data",
          "data": {
            "text/plain": [
              "<Figure size 640x480 with 1 Axes>"
            ],
            "image/png": "[encoded data removed]"
          },
          "metadata": {}
        }
      ]
    },
    {
      "cell_type": "code",
      "source": [
        "X['children'].value_counts()"
      ],
      "metadata": {
        "colab": {
          "base_uri": "https://localhost:8080/"
        },
        "id": "iy74BHwTVJx1",
        "outputId": "7f600931-30a7-4335-9029-95b5d2bb127c"
      },
      "execution_count": null,
      "outputs": [
        {
          "output_type": "execute_result",
          "data": {
            "text/plain": [
              "children\n",
              "0    574\n",
              "1    324\n",
              "2    240\n",
              "3    157\n",
              "4     25\n",
              "5     18\n",
              "Name: count, dtype: int64"
            ]
          },
          "metadata": {},
          "execution_count": 57
        }
      ]
    },
    {
      "cell_type": "code",
      "source": [
        "import pandas as pd\n",
        "from sklearn.compose import make_column_transformer\n",
        "from sklearn.preprocessing import MinMaxScaler, OneHotEncoder\n",
        "from sklearn.model_selection import train_test_split\n",
        "\n",
        "insurance = pd.read_csv(\"https://raw.githubusercontent.com/stedy/Machine-Learning-with-R-datasets/master/insurance.csv\")\n",
        "insurance\n",
        "\n",
        "# create a column transformer\n",
        "ct = make_column_transformer(\n",
        "    (MinMaxScaler(), [\"age\", \"bmi\", \"children\"]), # questo  da i valori di codesti con dei valori tra 0 e 1\n",
        "    (OneHotEncoder(handle_unknown=\"ignore\"), [\"sex\", \"smoker\", \"region\"])\n",
        ")\n",
        "\n",
        "# create x and y values\n",
        "X = insurance.drop(\"charges\", axis=1)\n",
        "Y = insurance[\"charges\"]\n",
        "\n",
        "\n",
        "\n",
        "# build our  train  model again\n",
        "X_train, X_test, Y_train, Y_test = train_test_split(X, Y, test_size=0.2, random_state=42)\n",
        "\n",
        "# adesso usiamo fit  le colonne del nostro trasformer\n",
        "ct.fit(X_train)\n",
        "\n",
        "# transform the data\n",
        "X_train_normal = ct.transform(X_train)\n",
        "X_test_normal = ct.transform(X_test)\n",
        "\n",
        "# visualizza i dati\n",
        "# print(X_train_normal)\n",
        "# print(X_test_normal)\n",
        "print(X_train_normal[0])\n",
        "print(f' in precedenza... {X_train.shape} , adesso le dimensioni sono 11  {X_train_normal.shape}')\n",
        "\n",
        "\n"
      ],
      "metadata": {
        "colab": {
          "base_uri": "https://localhost:8080/"
        },
        "id": "39ZiX0fxVOsA",
        "outputId": "be97956f-9091-49e2-b26b-8f4486b579a0"
      },
      "execution_count": null,
      "outputs": [
        {
          "output_type": "stream",
          "name": "stdout",
          "text": [
            "[0.60869565 0.10734463 0.4        1.         0.         1.\n",
            " 0.         0.         1.         0.         0.        ]\n",
            " in precedenza... (1070, 6) , adesso le dimensioni sono 11  (1070, 11)\n"
          ]
        }
      ]
    },
    {
      "cell_type": "code",
      "source": [
        "# create out model\n",
        "tf.random.set_seed(42)\n",
        "\n",
        "insurance_model_1 = tf.keras.Sequential([\n",
        "    tf.keras.layers.Dense(100, activation = 'relu'),\n",
        "    tf.keras.layers.Dense(100, activation = 'relu'),\n",
        "    tf.keras.layers.Dense(10),\n",
        "    tf.keras.layers.Dense(1, name=\"output_layer\")\n",
        "])\n",
        "insurance_model_1.compile(loss = tf.keras.losses.mae,\n",
        "                        optimizer = tf.keras.optimizers.Adam(learning_rate=0.01),\n",
        "                        metrics=[\"mae\"])\n",
        "\n",
        "history = insurance_model_1.fit(X_train_normal, Y_train, epochs=200,verbose=0)\n",
        "\n",
        "history\n"
      ],
      "metadata": {
        "colab": {
          "base_uri": "https://localhost:8080/"
        },
        "id": "DE8M8LRlW_tr",
        "outputId": "7e94a058-ea57-45ed-be52-cb8c8fe4f558"
      },
      "execution_count": null,
      "outputs": [
        {
          "output_type": "execute_result",
          "data": {
            "text/plain": [
              "<keras.src.callbacks.History at 0x7ed46e933b50>"
            ]
          },
          "metadata": {},
          "execution_count": 63
        }
      ]
    },
    {
      "cell_type": "code",
      "source": [
        "insurance_model_1.evaluate(X_test_normal, Y_test)\n",
        "#9/9 [==============================] - 0s 3ms/step - loss: 2270.0154 - mae: 2270.0154\n",
        "# [2270.015380859375, 2270.015380859375] non so perche ma il modello precedente senza standardizzare i dati a avuto un risulato migliore\n"
      ],
      "metadata": {
        "colab": {
          "base_uri": "https://localhost:8080/"
        },
        "id": "GTIdwtuIgxwm",
        "outputId": "043a0586-a9f1-4bb6-eb02-a98eba1e6404"
      },
      "execution_count": null,
      "outputs": [
        {
          "output_type": "stream",
          "name": "stdout",
          "text": [
            "9/9 [==============================] - 0s 4ms/step - loss: 1850.2479 - mae: 1850.2479\n"
          ]
        },
        {
          "output_type": "execute_result",
          "data": {
            "text/plain": [
              "[1850.2479248046875, 1850.2479248046875]"
            ]
          },
          "metadata": {},
          "execution_count": 64
        }
      ]
    },
    {
      "cell_type": "code",
      "source": [
        "pd.DataFrame(history.history).plot()\n",
        "plt.ylabel(\"loss\")\n",
        "plt.xlabel(\"epochs\")"
      ],
      "metadata": {
        "colab": {
          "base_uri": "https://localhost:8080/",
          "height": 467
        },
        "id": "1vDbB72hiLeA",
        "outputId": "47969fe7-885a-4c92-9de1-a5bec1e1f8c7"
      },
      "execution_count": null,
      "outputs": [
        {
          "output_type": "execute_result",
          "data": {
            "text/plain": [
              "Text(0.5, 0, 'epochs')"
            ]
          },
          "metadata": {},
          "execution_count": 65
        },
        {
          "output_type": "display_data",
          "data": {
            "text/plain": [
              "<Figure size 640x480 with 1 Axes>"
            ],
            "image/png": "[encoded data removed]"
          },
          "metadata": {}
        }
      ]
    }
  ]
}